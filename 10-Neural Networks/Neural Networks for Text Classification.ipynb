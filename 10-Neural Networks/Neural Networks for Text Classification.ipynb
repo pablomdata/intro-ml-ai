{
 "cells": [
  {
   "cell_type": "code",
   "execution_count": 1,
   "id": "178bfa6e",
   "metadata": {},
   "outputs": [],
   "source": [
    "import pandas as pd"
   ]
  },
  {
   "cell_type": "code",
   "execution_count": 2,
   "id": "70aa8e83",
   "metadata": {},
   "outputs": [],
   "source": [
    "df = pd.read_csv('../../data/spam-train.csv')"
   ]
  },
  {
   "cell_type": "code",
   "execution_count": 3,
   "id": "49dd72ee",
   "metadata": {},
   "outputs": [
    {
     "data": {
      "text/html": [
       "<div>\n",
       "<style scoped>\n",
       "    .dataframe tbody tr th:only-of-type {\n",
       "        vertical-align: middle;\n",
       "    }\n",
       "\n",
       "    .dataframe tbody tr th {\n",
       "        vertical-align: top;\n",
       "    }\n",
       "\n",
       "    .dataframe thead th {\n",
       "        text-align: right;\n",
       "    }\n",
       "</style>\n",
       "<table border=\"1\" class=\"dataframe\">\n",
       "  <thead>\n",
       "    <tr style=\"text-align: right;\">\n",
       "      <th></th>\n",
       "      <th>input</th>\n",
       "      <th>target</th>\n",
       "    </tr>\n",
       "  </thead>\n",
       "  <tbody>\n",
       "    <tr>\n",
       "      <th>0</th>\n",
       "      <td>Ok lar... Joking wif u oni...</td>\n",
       "      <td>ham</td>\n",
       "    </tr>\n",
       "    <tr>\n",
       "      <th>1</th>\n",
       "      <td>Free entry in 2 a wkly comp to win FA Cup fina...</td>\n",
       "      <td>spam</td>\n",
       "    </tr>\n",
       "    <tr>\n",
       "      <th>2</th>\n",
       "      <td>U dun say so early hor... U c already then say...</td>\n",
       "      <td>ham</td>\n",
       "    </tr>\n",
       "    <tr>\n",
       "      <th>3</th>\n",
       "      <td>Nah I don't think he goes to usf, he lives aro...</td>\n",
       "      <td>ham</td>\n",
       "    </tr>\n",
       "    <tr>\n",
       "      <th>4</th>\n",
       "      <td>FreeMsg Hey there darling it's been 3 week's n...</td>\n",
       "      <td>spam</td>\n",
       "    </tr>\n",
       "  </tbody>\n",
       "</table>\n",
       "</div>"
      ],
      "text/plain": [
       "                                               input target\n",
       "0                      Ok lar... Joking wif u oni...    ham\n",
       "1  Free entry in 2 a wkly comp to win FA Cup fina...   spam\n",
       "2  U dun say so early hor... U c already then say...    ham\n",
       "3  Nah I don't think he goes to usf, he lives aro...    ham\n",
       "4  FreeMsg Hey there darling it's been 3 week's n...   spam"
      ]
     },
     "execution_count": 3,
     "metadata": {},
     "output_type": "execute_result"
    }
   ],
   "source": [
    "df.head()"
   ]
  },
  {
   "cell_type": "markdown",
   "id": "33f34708",
   "metadata": {},
   "source": [
    "## Text classification\n",
    "\n",
    "**Task:** Create a model that calculates the class (spam/ham) of a given message.\n",
    "\n",
    "We will do this by creating a Pipeline that will consist of 3 steps:\n",
    "\n",
    "- Vectorize the data (representing input and target as vectors)/\n",
    "- Transform the data.\n",
    "- Create a classification model on top of the new representation of the data."
   ]
  },
  {
   "cell_type": "code",
   "execution_count": 4,
   "id": "e11c58e0",
   "metadata": {},
   "outputs": [],
   "source": [
    "from sklearn.pipeline import Pipeline"
   ]
  },
  {
   "cell_type": "code",
   "execution_count": 5,
   "id": "361ba845",
   "metadata": {},
   "outputs": [],
   "source": [
    "# Vectorizer\n",
    "from sklearn.feature_extraction.text import CountVectorizer\n",
    "\n",
    "# Transformer\n",
    "from sklearn.feature_extraction.text import TfidfTransformer #Term frequency * inverse document frequency\n",
    "\n",
    "# Classifier\n",
    "from sklearn.neural_network import MLPClassifier"
   ]
  },
  {
   "cell_type": "code",
   "execution_count": 6,
   "id": "73aa6f47",
   "metadata": {},
   "outputs": [],
   "source": [
    "pipe = Pipeline([\n",
    "    ('vec', CountVectorizer(stop_words='english')),\n",
    "    ('tfidf', TfidfTransformer()), \n",
    "    ('nn', MLPClassifier(hidden_layer_sizes=(100,50,), activation='tanh'))\n",
    "])"
   ]
  },
  {
   "cell_type": "code",
   "execution_count": 7,
   "id": "ae40ce4e",
   "metadata": {},
   "outputs": [],
   "source": [
    "X = df['input']"
   ]
  },
  {
   "cell_type": "code",
   "execution_count": 8,
   "id": "00c9eb31",
   "metadata": {},
   "outputs": [],
   "source": [
    "from sklearn.preprocessing import LabelEncoder\n",
    "\n",
    "le = LabelEncoder()\n",
    "y = le.fit_transform(df['target'])"
   ]
  },
  {
   "cell_type": "code",
   "execution_count": 9,
   "id": "13a26ede",
   "metadata": {},
   "outputs": [
    {
     "data": {
      "text/html": [
       "<style>#sk-container-id-1 {color: black;}#sk-container-id-1 pre{padding: 0;}#sk-container-id-1 div.sk-toggleable {background-color: white;}#sk-container-id-1 label.sk-toggleable__label {cursor: pointer;display: block;width: 100%;margin-bottom: 0;padding: 0.3em;box-sizing: border-box;text-align: center;}#sk-container-id-1 label.sk-toggleable__label-arrow:before {content: \"▸\";float: left;margin-right: 0.25em;color: #696969;}#sk-container-id-1 label.sk-toggleable__label-arrow:hover:before {color: black;}#sk-container-id-1 div.sk-estimator:hover label.sk-toggleable__label-arrow:before {color: black;}#sk-container-id-1 div.sk-toggleable__content {max-height: 0;max-width: 0;overflow: hidden;text-align: left;background-color: #f0f8ff;}#sk-container-id-1 div.sk-toggleable__content pre {margin: 0.2em;color: black;border-radius: 0.25em;background-color: #f0f8ff;}#sk-container-id-1 input.sk-toggleable__control:checked~div.sk-toggleable__content {max-height: 200px;max-width: 100%;overflow: auto;}#sk-container-id-1 input.sk-toggleable__control:checked~label.sk-toggleable__label-arrow:before {content: \"▾\";}#sk-container-id-1 div.sk-estimator input.sk-toggleable__control:checked~label.sk-toggleable__label {background-color: #d4ebff;}#sk-container-id-1 div.sk-label input.sk-toggleable__control:checked~label.sk-toggleable__label {background-color: #d4ebff;}#sk-container-id-1 input.sk-hidden--visually {border: 0;clip: rect(1px 1px 1px 1px);clip: rect(1px, 1px, 1px, 1px);height: 1px;margin: -1px;overflow: hidden;padding: 0;position: absolute;width: 1px;}#sk-container-id-1 div.sk-estimator {font-family: monospace;background-color: #f0f8ff;border: 1px dotted black;border-radius: 0.25em;box-sizing: border-box;margin-bottom: 0.5em;}#sk-container-id-1 div.sk-estimator:hover {background-color: #d4ebff;}#sk-container-id-1 div.sk-parallel-item::after {content: \"\";width: 100%;border-bottom: 1px solid gray;flex-grow: 1;}#sk-container-id-1 div.sk-label:hover label.sk-toggleable__label {background-color: #d4ebff;}#sk-container-id-1 div.sk-serial::before {content: \"\";position: absolute;border-left: 1px solid gray;box-sizing: border-box;top: 0;bottom: 0;left: 50%;z-index: 0;}#sk-container-id-1 div.sk-serial {display: flex;flex-direction: column;align-items: center;background-color: white;padding-right: 0.2em;padding-left: 0.2em;position: relative;}#sk-container-id-1 div.sk-item {position: relative;z-index: 1;}#sk-container-id-1 div.sk-parallel {display: flex;align-items: stretch;justify-content: center;background-color: white;position: relative;}#sk-container-id-1 div.sk-item::before, #sk-container-id-1 div.sk-parallel-item::before {content: \"\";position: absolute;border-left: 1px solid gray;box-sizing: border-box;top: 0;bottom: 0;left: 50%;z-index: -1;}#sk-container-id-1 div.sk-parallel-item {display: flex;flex-direction: column;z-index: 1;position: relative;background-color: white;}#sk-container-id-1 div.sk-parallel-item:first-child::after {align-self: flex-end;width: 50%;}#sk-container-id-1 div.sk-parallel-item:last-child::after {align-self: flex-start;width: 50%;}#sk-container-id-1 div.sk-parallel-item:only-child::after {width: 0;}#sk-container-id-1 div.sk-dashed-wrapped {border: 1px dashed gray;margin: 0 0.4em 0.5em 0.4em;box-sizing: border-box;padding-bottom: 0.4em;background-color: white;}#sk-container-id-1 div.sk-label label {font-family: monospace;font-weight: bold;display: inline-block;line-height: 1.2em;}#sk-container-id-1 div.sk-label-container {text-align: center;}#sk-container-id-1 div.sk-container {/* jupyter's `normalize.less` sets `[hidden] { display: none; }` but bootstrap.min.css set `[hidden] { display: none !important; }` so we also need the `!important` here to be able to override the default hidden behavior on the sphinx rendered scikit-learn.org. See: https://github.com/scikit-learn/scikit-learn/issues/21755 */display: inline-block !important;position: relative;}#sk-container-id-1 div.sk-text-repr-fallback {display: none;}</style><div id=\"sk-container-id-1\" class=\"sk-top-container\"><div class=\"sk-text-repr-fallback\"><pre>Pipeline(steps=[(&#x27;vec&#x27;, CountVectorizer(stop_words=&#x27;english&#x27;)),\n",
       "                (&#x27;tfidf&#x27;, TfidfTransformer()),\n",
       "                (&#x27;nn&#x27;,\n",
       "                 MLPClassifier(activation=&#x27;tanh&#x27;,\n",
       "                               hidden_layer_sizes=(100, 50)))])</pre><b>In a Jupyter environment, please rerun this cell to show the HTML representation or trust the notebook. <br />On GitHub, the HTML representation is unable to render, please try loading this page with nbviewer.org.</b></div><div class=\"sk-container\" hidden><div class=\"sk-item sk-dashed-wrapped\"><div class=\"sk-label-container\"><div class=\"sk-label sk-toggleable\"><input class=\"sk-toggleable__control sk-hidden--visually\" id=\"sk-estimator-id-1\" type=\"checkbox\" ><label for=\"sk-estimator-id-1\" class=\"sk-toggleable__label sk-toggleable__label-arrow\">Pipeline</label><div class=\"sk-toggleable__content\"><pre>Pipeline(steps=[(&#x27;vec&#x27;, CountVectorizer(stop_words=&#x27;english&#x27;)),\n",
       "                (&#x27;tfidf&#x27;, TfidfTransformer()),\n",
       "                (&#x27;nn&#x27;,\n",
       "                 MLPClassifier(activation=&#x27;tanh&#x27;,\n",
       "                               hidden_layer_sizes=(100, 50)))])</pre></div></div></div><div class=\"sk-serial\"><div class=\"sk-item\"><div class=\"sk-estimator sk-toggleable\"><input class=\"sk-toggleable__control sk-hidden--visually\" id=\"sk-estimator-id-2\" type=\"checkbox\" ><label for=\"sk-estimator-id-2\" class=\"sk-toggleable__label sk-toggleable__label-arrow\">CountVectorizer</label><div class=\"sk-toggleable__content\"><pre>CountVectorizer(stop_words=&#x27;english&#x27;)</pre></div></div></div><div class=\"sk-item\"><div class=\"sk-estimator sk-toggleable\"><input class=\"sk-toggleable__control sk-hidden--visually\" id=\"sk-estimator-id-3\" type=\"checkbox\" ><label for=\"sk-estimator-id-3\" class=\"sk-toggleable__label sk-toggleable__label-arrow\">TfidfTransformer</label><div class=\"sk-toggleable__content\"><pre>TfidfTransformer()</pre></div></div></div><div class=\"sk-item\"><div class=\"sk-estimator sk-toggleable\"><input class=\"sk-toggleable__control sk-hidden--visually\" id=\"sk-estimator-id-4\" type=\"checkbox\" ><label for=\"sk-estimator-id-4\" class=\"sk-toggleable__label sk-toggleable__label-arrow\">MLPClassifier</label><div class=\"sk-toggleable__content\"><pre>MLPClassifier(activation=&#x27;tanh&#x27;, hidden_layer_sizes=(100, 50))</pre></div></div></div></div></div></div></div>"
      ],
      "text/plain": [
       "Pipeline(steps=[('vec', CountVectorizer(stop_words='english')),\n",
       "                ('tfidf', TfidfTransformer()),\n",
       "                ('nn',\n",
       "                 MLPClassifier(activation='tanh',\n",
       "                               hidden_layer_sizes=(100, 50)))])"
      ]
     },
     "execution_count": 9,
     "metadata": {},
     "output_type": "execute_result"
    }
   ],
   "source": [
    "pipe.fit(X,y)"
   ]
  },
  {
   "cell_type": "code",
   "execution_count": 10,
   "id": "1d7972ed",
   "metadata": {},
   "outputs": [
    {
     "data": {
      "text/plain": [
       "1.0"
      ]
     },
     "execution_count": 10,
     "metadata": {},
     "output_type": "execute_result"
    }
   ],
   "source": [
    "pipe.score(X,y)"
   ]
  },
  {
   "cell_type": "code",
   "execution_count": 11,
   "id": "15e5dcd9",
   "metadata": {},
   "outputs": [],
   "source": [
    "out = pipe.predict(['Die... I accidentally deleted e msg i suppose 2 put in e sim archive. Haiz... I so sad...'])"
   ]
  },
  {
   "cell_type": "code",
   "execution_count": 12,
   "id": "78e393c2",
   "metadata": {},
   "outputs": [
    {
     "data": {
      "text/plain": [
       "array(['ham'], dtype=object)"
      ]
     },
     "execution_count": 12,
     "metadata": {},
     "output_type": "execute_result"
    }
   ],
   "source": [
    "le.inverse_transform(out)"
   ]
  },
  {
   "cell_type": "markdown",
   "id": "f6ca0275",
   "metadata": {},
   "source": [
    "We can use `predict_proba` to estimate class probabilities and adjust the predictions to the context of the problem.\n",
    "\n",
    "For example, to decrease the \"risk tolerance\" of a prediction."
   ]
  },
  {
   "cell_type": "code",
   "execution_count": 13,
   "id": "914fdf8f",
   "metadata": {},
   "outputs": [],
   "source": [
    "probas = pipe.predict_proba([\"you have received your package\"])\n",
    "ham_proba, spam_proba = probas[0]\n",
    "\n",
    "if spam_proba > 0.02:\n",
    "    out = 'spam'\n",
    "else:\n",
    "    out = 'ham'"
   ]
  },
  {
   "cell_type": "code",
   "execution_count": 14,
   "id": "d7157315",
   "metadata": {},
   "outputs": [
    {
     "data": {
      "text/plain": [
       "array([[0.98950656, 0.01049344]])"
      ]
     },
     "execution_count": 14,
     "metadata": {},
     "output_type": "execute_result"
    }
   ],
   "source": [
    "probas"
   ]
  },
  {
   "cell_type": "code",
   "execution_count": 15,
   "id": "4a2e0020",
   "metadata": {},
   "outputs": [
    {
     "data": {
      "text/plain": [
       "'ham'"
      ]
     },
     "execution_count": 15,
     "metadata": {},
     "output_type": "execute_result"
    }
   ],
   "source": [
    "out"
   ]
  },
  {
   "cell_type": "markdown",
   "id": "3784251a",
   "metadata": {},
   "source": [
    "## Model persistence\n",
    "\n",
    "Scikit allows to save trained model objects as binary files (pickled) that can be read as part of an application (unrelated to scikit)."
   ]
  },
  {
   "cell_type": "code",
   "execution_count": 16,
   "id": "c4275091",
   "metadata": {},
   "outputs": [
    {
     "data": {
      "text/plain": [
       "['pipeline.pkl']"
      ]
     },
     "execution_count": 16,
     "metadata": {},
     "output_type": "execute_result"
    }
   ],
   "source": [
    "import joblib\n",
    "joblib.dump(pipe, 'pipeline.pkl')"
   ]
  },
  {
   "cell_type": "markdown",
   "id": "08a2b0c9",
   "metadata": {},
   "source": [
    "## Weights\n",
    "\n",
    "The coefficients obtained after the training process are stored within the trained model."
   ]
  },
  {
   "cell_type": "code",
   "execution_count": 17,
   "id": "26308db5",
   "metadata": {},
   "outputs": [
    {
     "data": {
      "text/plain": [
       "[array([[ 0.02711572, -0.01964854, -0.03004793, ...,  0.03123645,\n",
       "         -0.06429743, -0.03802805],\n",
       "        [ 0.03211688, -0.02816248, -0.06198131, ...,  0.05819027,\n",
       "         -0.03617192, -0.03875066],\n",
       "        [-0.00654301,  0.0291064 ,  0.0073223 , ...,  0.01709385,\n",
       "         -0.00374363, -0.00234654],\n",
       "        ...,\n",
       "        [-0.03195658,  0.01027423,  0.02840294, ...,  0.00050925,\n",
       "          0.00443496,  0.00325789],\n",
       "        [ 0.01121356,  0.0297211 ,  0.02353754, ...,  0.00605635,\n",
       "         -0.00218721, -0.00561321],\n",
       "        [ 0.00675875, -0.00741731, -0.02265729, ...,  0.04275281,\n",
       "         -0.02086842, -0.02156378]]),\n",
       " array([[ 0.09485287,  0.01031972,  0.00823737, ...,  0.05219171,\n",
       "          0.06747428, -0.20471939],\n",
       "        [-0.02223352,  0.1065239 ,  0.04584068, ...,  0.15227551,\n",
       "          0.16409351,  0.06842835],\n",
       "        [ 0.09750196,  0.31661198,  0.05643015, ..., -0.00338447,\n",
       "          0.21299589,  0.27178575],\n",
       "        ...,\n",
       "        [-0.19722557,  0.05344896, -0.24207183, ..., -0.07987624,\n",
       "         -0.17941698,  0.03379804],\n",
       "        [ 0.08102998,  0.2621078 , -0.06028844, ..., -0.00105554,\n",
       "          0.2490854 , -0.0370696 ],\n",
       "        [ 0.21996455, -0.05563666,  0.2487051 , ...,  0.08224727,\n",
       "         -0.0414356 ,  0.15787701]]),\n",
       " array([[-0.22021015],\n",
       "        [-0.14445576],\n",
       "        [-0.14923429],\n",
       "        [ 0.28227737],\n",
       "        [-0.35276491],\n",
       "        [-0.29311906],\n",
       "        [-0.321628  ],\n",
       "        [ 0.41508952],\n",
       "        [ 0.19008765],\n",
       "        [ 0.25509664],\n",
       "        [-0.3845474 ],\n",
       "        [-0.42403441],\n",
       "        [-0.28818881],\n",
       "        [-0.23623277],\n",
       "        [-0.40523727],\n",
       "        [ 0.27874312],\n",
       "        [-0.29857952],\n",
       "        [-0.29683664],\n",
       "        [-0.44123361],\n",
       "        [-0.10291624],\n",
       "        [-0.26015036],\n",
       "        [-0.3420126 ],\n",
       "        [ 0.12801787],\n",
       "        [-0.08766731],\n",
       "        [ 0.36016137],\n",
       "        [-0.2635525 ],\n",
       "        [ 0.0795338 ],\n",
       "        [ 0.36682848],\n",
       "        [-0.33118814],\n",
       "        [ 0.11394322],\n",
       "        [ 0.29312613],\n",
       "        [ 0.39262955],\n",
       "        [-0.2054709 ],\n",
       "        [-0.10070657],\n",
       "        [-0.19675635],\n",
       "        [ 0.2880073 ],\n",
       "        [-0.38733497],\n",
       "        [-0.31334863],\n",
       "        [-0.15351027],\n",
       "        [-0.3440589 ],\n",
       "        [ 0.2897747 ],\n",
       "        [-0.11656102],\n",
       "        [ 0.22507593],\n",
       "        [ 0.22473356],\n",
       "        [ 0.45402654],\n",
       "        [ 0.0784991 ],\n",
       "        [-0.33838416],\n",
       "        [-0.14311724],\n",
       "        [-0.34120278],\n",
       "        [-0.35673403]])]"
      ]
     },
     "execution_count": 17,
     "metadata": {},
     "output_type": "execute_result"
    }
   ],
   "source": [
    "pipe.steps[2][1].coefs_"
   ]
  },
  {
   "cell_type": "code",
   "execution_count": 18,
   "id": "71c04c5f",
   "metadata": {},
   "outputs": [
    {
     "data": {
      "text/plain": [
       "(7505, 100)"
      ]
     },
     "execution_count": 18,
     "metadata": {},
     "output_type": "execute_result"
    }
   ],
   "source": [
    "pipe.steps[2][1].coefs_[0].shape"
   ]
  },
  {
   "cell_type": "code",
   "execution_count": 19,
   "id": "99e6d0cb",
   "metadata": {},
   "outputs": [
    {
     "data": {
      "text/plain": [
       "array([ 0.02711572, -0.01964854, -0.03004793,  0.06888016, -0.06958473,\n",
       "        0.03319043, -0.04258098, -0.0244341 ,  0.01848258,  0.05877085,\n",
       "        0.06115306, -0.02448434, -0.06916235,  0.03893557,  0.06129614,\n",
       "        0.04779475, -0.02524209, -0.01784851, -0.0672942 ,  0.02178241,\n",
       "        0.0271579 , -0.05759197,  0.03517576,  0.05532286,  0.03568352,\n",
       "       -0.05735865, -0.03027907,  0.05480035,  0.05995709,  0.05908954,\n",
       "        0.07019727,  0.02764915, -0.05471611,  0.06132288, -0.06099722,\n",
       "        0.06089851, -0.05026024,  0.02838628, -0.05154651,  0.05573839,\n",
       "       -0.06222068,  0.04227527,  0.0603626 , -0.07492042, -0.06119767,\n",
       "       -0.04185345,  0.04066058,  0.04066194,  0.05877274,  0.04190873,\n",
       "       -0.05177647, -0.04225024, -0.04583939, -0.02406191,  0.02930503,\n",
       "        0.03933523,  0.05416791,  0.02401508, -0.04815017, -0.04266433,\n",
       "        0.05766058, -0.05976618, -0.068397  , -0.04411259,  0.02619356,\n",
       "        0.05085765,  0.05142763, -0.05038693,  0.04951947,  0.05586889,\n",
       "        0.03480064, -0.07613384,  0.03272036, -0.05134477, -0.03099807,\n",
       "        0.03323062, -0.05036127, -0.07645611,  0.05643153,  0.05219316,\n",
       "        0.07240904,  0.07158899, -0.05005176,  0.04121702,  0.05086804,\n",
       "       -0.04990788,  0.0262833 ,  0.04227939,  0.06911581, -0.05618426,\n",
       "        0.03713791,  0.04945169,  0.03817216,  0.07226035, -0.07224688,\n",
       "        0.04822945,  0.03749468,  0.03123645, -0.06429743, -0.03802805])"
      ]
     },
     "execution_count": 19,
     "metadata": {},
     "output_type": "execute_result"
    }
   ],
   "source": [
    "pipe.steps[2][1].coefs_[0][0]"
   ]
  },
  {
   "cell_type": "code",
   "execution_count": null,
   "id": "959ed5b9",
   "metadata": {},
   "outputs": [],
   "source": []
  }
 ],
 "metadata": {
  "kernelspec": {
   "display_name": "Python 3 (ipykernel)",
   "language": "python",
   "name": "python3"
  },
  "language_info": {
   "codemirror_mode": {
    "name": "ipython",
    "version": 3
   },
   "file_extension": ".py",
   "mimetype": "text/x-python",
   "name": "python",
   "nbconvert_exporter": "python",
   "pygments_lexer": "ipython3",
   "version": "3.10.12"
  }
 },
 "nbformat": 4,
 "nbformat_minor": 5
}
