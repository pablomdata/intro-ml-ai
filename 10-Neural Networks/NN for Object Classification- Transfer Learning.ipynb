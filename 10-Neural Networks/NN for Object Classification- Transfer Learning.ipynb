{
 "cells": [
  {
   "cell_type": "markdown",
   "metadata": {},
   "source": [
    "### MobileNet\n",
    "- Neural network which is around 28MB. \n",
    "- Runs on mobile devices.\n",
    "- Single-shot detection."
   ]
  },
  {
   "cell_type": "markdown",
   "metadata": {},
   "source": [
    "### Bring in an image to this model (do inference on a trained model)"
   ]
  },
  {
   "cell_type": "code",
   "execution_count": 1,
   "metadata": {},
   "outputs": [],
   "source": [
    "import numpy as np\n",
    "import matplotlib.pyplot as plt\n",
    "from tensorflow.keras.preprocessing import image\n",
    "from tensorflow.keras.applications.mobilenet import MobileNet, preprocess_input, decode_predictions"
   ]
  },
  {
   "cell_type": "code",
   "execution_count": 2,
   "metadata": {},
   "outputs": [],
   "source": [
    " model = MobileNet() # weights=\"path to the h5 file\""
   ]
  },
  {
   "cell_type": "code",
   "execution_count": 3,
   "metadata": {},
   "outputs": [
    {
     "data": {
      "text/plain": [
       "(224, 224, 3)"
      ]
     },
     "execution_count": 3,
     "metadata": {},
     "output_type": "execute_result"
    }
   ],
   "source": [
    "img = image.load_img('./data/hotdog/train/hot_dog/1017226.jpg', target_size=(224,224))\n",
    "img_array = image.img_to_array(img) # Converting from PIL object into a numpy array\n",
    "img_array.shape"
   ]
  },
  {
   "cell_type": "code",
   "execution_count": 4,
   "metadata": {},
   "outputs": [],
   "source": [
    "probas = model.predict(img_array.reshape(1, 224,224,3))"
   ]
  },
  {
   "cell_type": "code",
   "execution_count": 5,
   "metadata": {},
   "outputs": [
    {
     "data": {
      "text/plain": [
       "[[('n02782093', 'balloon', 0.4686488),\n",
       "  ('n09256479', 'coral_reef', 0.10136139),\n",
       "  ('n02606052', 'rock_beauty', 0.08158921),\n",
       "  ('n04209239', 'shower_curtain', 0.0690787),\n",
       "  ('n03530642', 'honeycomb', 0.031012459)]]"
      ]
     },
     "execution_count": 5,
     "metadata": {},
     "output_type": "execute_result"
    }
   ],
   "source": [
    "decode_predictions(probas)"
   ]
  },
  {
   "cell_type": "markdown",
   "metadata": {},
   "source": [
    "#### Load as a json file (if no access to internet)"
   ]
  },
  {
   "cell_type": "code",
   "execution_count": 6,
   "metadata": {},
   "outputs": [],
   "source": [
    "#import json\n",
    "#with open(\"json file path\") as f:\n",
    "#    imagenet = json.load(f)\n",
    "# probas"
   ]
  },
  {
   "cell_type": "markdown",
   "metadata": {},
   "source": [
    "## Transfer learning\n",
    "\n",
    "- Bring back `MobileNet` and do not include the top layer on the network (the last layer excluded)."
   ]
  },
  {
   "cell_type": "code",
   "execution_count": 7,
   "metadata": {},
   "outputs": [],
   "source": [
    "base_model = MobileNet()"
   ]
  },
  {
   "cell_type": "markdown",
   "metadata": {},
   "source": [
    "#### Take the output of the last but one layer, and use it to build on top of it."
   ]
  },
  {
   "cell_type": "code",
   "execution_count": 8,
   "metadata": {},
   "outputs": [],
   "source": [
    "from tensorflow.keras.layers import Dense\n",
    "from tensorflow.keras.models import Model, Sequential"
   ]
  },
  {
   "cell_type": "code",
   "execution_count": 9,
   "metadata": {},
   "outputs": [
    {
     "data": {
      "text/plain": [
       "93"
      ]
     },
     "execution_count": 9,
     "metadata": {},
     "output_type": "execute_result"
    }
   ],
   "source": [
    "len(base_model.layers)"
   ]
  },
  {
   "cell_type": "code",
   "execution_count": 10,
   "metadata": {},
   "outputs": [],
   "source": [
    "new_model = Sequential([base_model.layers[i] for i in range(92)])\n",
    "new_model.trainable = False  # True = We do fine-tuning, False = Feature extraction + fine-tuning comes later\n",
    "new_model.add(Dense(512, activation='relu'))\n",
    "new_model.add(Dense(2, activation='softmax'))"
   ]
  },
  {
   "cell_type": "code",
   "execution_count": 11,
   "metadata": {},
   "outputs": [],
   "source": [
    "#new_new_model = Sequential(base_model.layers[::-1]+[Dense(512, activation='relu'), Dense(2, activation='softmax')])"
   ]
  },
  {
   "cell_type": "markdown",
   "metadata": {},
   "source": [
    "#### Use generator to bring in the training images for hotdog/not hotdog "
   ]
  },
  {
   "cell_type": "code",
   "execution_count": 12,
   "metadata": {},
   "outputs": [],
   "source": [
    "from tensorflow.keras.preprocessing.image import ImageDataGenerator"
   ]
  },
  {
   "cell_type": "code",
   "execution_count": 13,
   "metadata": {},
   "outputs": [],
   "source": [
    "train_datagen = ImageDataGenerator(preprocessing_function=preprocess_input\n",
    "                                   , horizontal_flip=True, vertical_flip=True)"
   ]
  },
  {
   "cell_type": "code",
   "execution_count": 14,
   "metadata": {},
   "outputs": [],
   "source": [
    "test_datagen = ImageDataGenerator(preprocessing_function=preprocess_input\n",
    "                                   , horizontal_flip=True, vertical_flip=True)"
   ]
  },
  {
   "cell_type": "code",
   "execution_count": 15,
   "metadata": {},
   "outputs": [
    {
     "name": "stdout",
     "output_type": "stream",
     "text": [
      "Found 498 images belonging to 2 classes.\n"
     ]
    }
   ],
   "source": [
    "train_generator = train_datagen.flow_from_directory('./data/hotdog/train/', \n",
    "                                                    target_size=(224,224), \n",
    "                                                    color_mode='rgb', \n",
    "                                                    class_mode='categorical', \n",
    "                                                    batch_size=16)"
   ]
  },
  {
   "cell_type": "code",
   "execution_count": 16,
   "metadata": {},
   "outputs": [
    {
     "name": "stdout",
     "output_type": "stream",
     "text": [
      "Found 500 images belonging to 2 classes.\n"
     ]
    }
   ],
   "source": [
    "test_generator = test_datagen.flow_from_directory('./data/hotdog/test/', \n",
    "                                                    target_size=(224,224), \n",
    "                                                    color_mode='rgb', \n",
    "                                                    class_mode='categorical', \n",
    "                                                    batch_size=16)"
   ]
  },
  {
   "cell_type": "code",
   "execution_count": 17,
   "metadata": {},
   "outputs": [],
   "source": [
    "new_model.compile(loss='categorical_crossentropy', metrics=['accuracy'])"
   ]
  },
  {
   "cell_type": "code",
   "execution_count": 18,
   "metadata": {},
   "outputs": [
    {
     "name": "stdout",
     "output_type": "stream",
     "text": [
      "Epoch 1/20\n",
      "32/32 [==============================] - 171s 5s/step - loss: 2.0991 - accuracy: 0.7189 - val_loss: 4.9146 - val_accuracy: 0.5620\n",
      "Epoch 2/20\n",
      "32/32 [==============================] - 174s 5s/step - loss: 0.7475 - accuracy: 0.8534 - val_loss: 5.1640 - val_accuracy: 0.5700\n",
      "Epoch 3/20\n",
      "32/32 [==============================] - 174s 5s/step - loss: 0.5712 - accuracy: 0.8815 - val_loss: 5.0946 - val_accuracy: 0.5440\n",
      "Epoch 4/20\n",
      "32/32 [==============================] - 174s 5s/step - loss: 0.4022 - accuracy: 0.9096 - val_loss: 1.1729 - val_accuracy: 0.8060\n",
      "Epoch 5/20\n",
      "32/32 [==============================] - 173s 5s/step - loss: 0.4036 - accuracy: 0.9036 - val_loss: 1.2991 - val_accuracy: 0.7780\n",
      "Epoch 6/20\n",
      "32/32 [==============================] - 173s 5s/step - loss: 0.1845 - accuracy: 0.9438 - val_loss: 1.7937 - val_accuracy: 0.7340\n",
      "Epoch 7/20\n",
      "32/32 [==============================] - 173s 5s/step - loss: 0.2644 - accuracy: 0.9317 - val_loss: 2.1613 - val_accuracy: 0.6900\n",
      "Epoch 8/20\n",
      "32/32 [==============================] - 1379s 43s/step - loss: 0.1315 - accuracy: 0.9518 - val_loss: 0.8540 - val_accuracy: 0.8580\n",
      "Epoch 9/20\n",
      "32/32 [==============================] - 184s 6s/step - loss: 0.3156 - accuracy: 0.9317 - val_loss: 1.2328 - val_accuracy: 0.7880\n",
      "Epoch 10/20\n",
      "32/32 [==============================] - 204s 6s/step - loss: 0.1170 - accuracy: 0.9679 - val_loss: 1.5290 - val_accuracy: 0.7920\n",
      "Epoch 11/20\n",
      "32/32 [==============================] - 203s 6s/step - loss: 0.1923 - accuracy: 0.9558 - val_loss: 0.9769 - val_accuracy: 0.8460\n",
      "Epoch 12/20\n",
      "32/32 [==============================] - 199s 6s/step - loss: 0.1275 - accuracy: 0.9699 - val_loss: 2.5497 - val_accuracy: 0.6960\n",
      "Epoch 13/20\n",
      "32/32 [==============================] - 198s 6s/step - loss: 0.1229 - accuracy: 0.9618 - val_loss: 1.9984 - val_accuracy: 0.7440\n",
      "Epoch 14/20\n",
      "32/32 [==============================] - 198s 6s/step - loss: 0.3041 - accuracy: 0.9277 - val_loss: 3.0068 - val_accuracy: 0.6580\n",
      "Epoch 15/20\n",
      "32/32 [==============================] - 201s 6s/step - loss: 0.1473 - accuracy: 0.9699 - val_loss: 4.0046 - val_accuracy: 0.6140\n",
      "Epoch 16/20\n",
      "32/32 [==============================] - 206s 6s/step - loss: 0.0942 - accuracy: 0.9719 - val_loss: 1.8120 - val_accuracy: 0.7620\n",
      "Epoch 17/20\n",
      "32/32 [==============================] - 202s 6s/step - loss: 0.1053 - accuracy: 0.9739 - val_loss: 3.2797 - val_accuracy: 0.6240\n",
      "Epoch 18/20\n",
      "32/32 [==============================] - 207s 6s/step - loss: 0.0725 - accuracy: 0.9779 - val_loss: 2.8686 - val_accuracy: 0.6920\n",
      "Epoch 19/20\n",
      "32/32 [==============================] - 203s 6s/step - loss: 0.1150 - accuracy: 0.9739 - val_loss: 1.2998 - val_accuracy: 0.8080\n",
      "Epoch 20/20\n",
      "32/32 [==============================] - 197s 6s/step - loss: 0.0874 - accuracy: 0.9739 - val_loss: 3.7341 - val_accuracy: 0.6160\n"
     ]
    }
   ],
   "source": [
    "history = new_model.fit_generator(generator=train_generator,\n",
    "                                  epochs=20,\n",
    "                                  validation_data=test_generator\n",
    "                                 )"
   ]
  },
  {
   "cell_type": "code",
   "execution_count": 19,
   "metadata": {},
   "outputs": [],
   "source": [
    "def load_img(file):\n",
    "    img = image.load_img(file, target_size=(224,224))\n",
    "    img_array = image.img_to_array(img) # Converting from PIL object into a numpy array\n",
    "    return img_array.reshape(1, 224,224,3)"
   ]
  },
  {
   "cell_type": "code",
   "execution_count": 20,
   "metadata": {},
   "outputs": [],
   "source": [
    "preds_to_labels = { train_generator.class_indices[k]:k for k in train_generator.class_indices.keys()}"
   ]
  },
  {
   "cell_type": "code",
   "execution_count": 21,
   "metadata": {},
   "outputs": [],
   "source": [
    "counter = {'hot_dog':0, 'not_hot_dog':0}\n",
    "import glob\n",
    "for file in glob.glob('./data/hotdog/test/hot_dog/*'):\n",
    "    preds = new_model.predict(load_img(file))\n",
    "    pred = np.argmax(preds)\n",
    "    counter[preds_to_labels[pred]] += 1"
   ]
  },
  {
   "cell_type": "code",
   "execution_count": 22,
   "metadata": {},
   "outputs": [
    {
     "data": {
      "text/plain": [
       "{'hot_dog': 94, 'not_hot_dog': 156}"
      ]
     },
     "execution_count": 22,
     "metadata": {},
     "output_type": "execute_result"
    }
   ],
   "source": [
    "counter"
   ]
  },
  {
   "cell_type": "markdown",
   "metadata": {},
   "source": [
    "## Model persistance"
   ]
  },
  {
   "cell_type": "code",
   "execution_count": 23,
   "metadata": {},
   "outputs": [],
   "source": [
    "import tensorflow as tf"
   ]
  },
  {
   "cell_type": "code",
   "execution_count": 24,
   "metadata": {},
   "outputs": [
    {
     "name": "stdout",
     "output_type": "stream",
     "text": [
      "WARNING:tensorflow:From C:\\Users\\HP\\Anaconda3\\envs\\huawei\\lib\\site-packages\\tensorflow_core\\python\\ops\\resource_variable_ops.py:1781: calling BaseResourceVariable.__init__ (from tensorflow.python.ops.resource_variable_ops) with constraint is deprecated and will be removed in a future version.\n",
      "Instructions for updating:\n",
      "If using Keras pass *_constraint arguments to layers.\n",
      "INFO:tensorflow:Assets written to: ./tmp/mobilenet/1/assets\n"
     ]
    }
   ],
   "source": [
    "tf.saved_model.save(new_model, \"./tmp/mobilenet/1/\")"
   ]
  },
  {
   "cell_type": "code",
   "execution_count": null,
   "metadata": {},
   "outputs": [],
   "source": []
  }
 ],
 "metadata": {
  "kernelspec": {
   "display_name": "Python 3",
   "language": "python",
   "name": "python3"
  },
  "language_info": {
   "codemirror_mode": {
    "name": "ipython",
    "version": 3
   },
   "file_extension": ".py",
   "mimetype": "text/x-python",
   "name": "python",
   "nbconvert_exporter": "python",
   "pygments_lexer": "ipython3",
   "version": "3.7.5"
  }
 },
 "nbformat": 4,
 "nbformat_minor": 2
}
