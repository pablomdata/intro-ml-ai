{
 "cells": [
  {
   "cell_type": "code",
   "execution_count": 1,
   "id": "178bfa6e",
   "metadata": {},
   "outputs": [],
   "source": [
    "import pandas as pd"
   ]
  },
  {
   "cell_type": "code",
   "execution_count": 2,
   "id": "70aa8e83",
   "metadata": {},
   "outputs": [],
   "source": [
    "df = pd.read_csv('./data/spam.csv')"
   ]
  },
  {
   "cell_type": "code",
   "execution_count": 3,
   "id": "49dd72ee",
   "metadata": {},
   "outputs": [
    {
     "data": {
      "text/html": [
       "<div>\n",
       "<style scoped>\n",
       "    .dataframe tbody tr th:only-of-type {\n",
       "        vertical-align: middle;\n",
       "    }\n",
       "\n",
       "    .dataframe tbody tr th {\n",
       "        vertical-align: top;\n",
       "    }\n",
       "\n",
       "    .dataframe thead th {\n",
       "        text-align: right;\n",
       "    }\n",
       "</style>\n",
       "<table border=\"1\" class=\"dataframe\">\n",
       "  <thead>\n",
       "    <tr style=\"text-align: right;\">\n",
       "      <th></th>\n",
       "      <th>input</th>\n",
       "      <th>target</th>\n",
       "    </tr>\n",
       "  </thead>\n",
       "  <tbody>\n",
       "    <tr>\n",
       "      <th>0</th>\n",
       "      <td>Ok lar... Joking wif u oni...</td>\n",
       "      <td>ham</td>\n",
       "    </tr>\n",
       "    <tr>\n",
       "      <th>1</th>\n",
       "      <td>Free entry in 2 a wkly comp to win FA Cup fina...</td>\n",
       "      <td>spam</td>\n",
       "    </tr>\n",
       "    <tr>\n",
       "      <th>2</th>\n",
       "      <td>U dun say so early hor... U c already then say...</td>\n",
       "      <td>ham</td>\n",
       "    </tr>\n",
       "    <tr>\n",
       "      <th>3</th>\n",
       "      <td>Nah I don't think he goes to usf, he lives aro...</td>\n",
       "      <td>ham</td>\n",
       "    </tr>\n",
       "    <tr>\n",
       "      <th>4</th>\n",
       "      <td>FreeMsg Hey there darling it's been 3 week's n...</td>\n",
       "      <td>spam</td>\n",
       "    </tr>\n",
       "  </tbody>\n",
       "</table>\n",
       "</div>"
      ],
      "text/plain": [
       "                                               input target\n",
       "0                      Ok lar... Joking wif u oni...    ham\n",
       "1  Free entry in 2 a wkly comp to win FA Cup fina...   spam\n",
       "2  U dun say so early hor... U c already then say...    ham\n",
       "3  Nah I don't think he goes to usf, he lives aro...    ham\n",
       "4  FreeMsg Hey there darling it's been 3 week's n...   spam"
      ]
     },
     "execution_count": 3,
     "metadata": {},
     "output_type": "execute_result"
    }
   ],
   "source": [
    "df.head()"
   ]
  },
  {
   "cell_type": "markdown",
   "id": "33f34708",
   "metadata": {},
   "source": [
    "## Text classification\n",
    "\n",
    "**Task:** Create a model that calculates the class (spam/ham) of a given message.\n",
    "\n",
    "We will do this by creating a Pipeline that will consist of 3 steps:\n",
    "\n",
    "- Vectorize the data (representing input and target as vectors)/\n",
    "- Transform the data.\n",
    "- Create a classification model on top of the new representation of the data."
   ]
  },
  {
   "cell_type": "code",
   "execution_count": 4,
   "id": "e11c58e0",
   "metadata": {},
   "outputs": [],
   "source": [
    "from sklearn.pipeline import Pipeline"
   ]
  },
  {
   "cell_type": "code",
   "execution_count": 5,
   "id": "361ba845",
   "metadata": {},
   "outputs": [],
   "source": [
    "# Vectorizer\n",
    "from sklearn.feature_extraction.text import CountVectorizer\n",
    "\n",
    "# Transformer\n",
    "from sklearn.feature_extraction.text import TfidfTransformer #Term frequency * inverse document frequency\n",
    "\n",
    "# Classifier\n",
    "from sklearn.neural_network import MLPClassifier"
   ]
  },
  {
   "cell_type": "code",
   "execution_count": 6,
   "id": "73aa6f47",
   "metadata": {},
   "outputs": [],
   "source": [
    "pipe = Pipeline([\n",
    "    ('vec', CountVectorizer(stop_words='english')),\n",
    "    ('tfidf', TfidfTransformer()), \n",
    "    ('nn', MLPClassifier(hidden_layer_sizes=(100,50,), activation='tanh'))\n",
    "])"
   ]
  },
  {
   "cell_type": "code",
   "execution_count": 7,
   "id": "ae40ce4e",
   "metadata": {},
   "outputs": [],
   "source": [
    "X = df['input']"
   ]
  },
  {
   "cell_type": "code",
   "execution_count": 8,
   "id": "00c9eb31",
   "metadata": {},
   "outputs": [],
   "source": [
    "y = df['target']"
   ]
  },
  {
   "cell_type": "code",
   "execution_count": 10,
   "id": "2dca9724",
   "metadata": {},
   "outputs": [],
   "source": [
    "from sklearn.model_selection import train_test_split\n",
    "X_train, X_test, y_train, y_test = train_test_split(X, y, train_size=0.8, random_state=42)"
   ]
  },
  {
   "cell_type": "code",
   "execution_count": 11,
   "id": "13a26ede",
   "metadata": {},
   "outputs": [
    {
     "data": {
      "text/html": [
       "<style>#sk-container-id-1 {color: black;}#sk-container-id-1 pre{padding: 0;}#sk-container-id-1 div.sk-toggleable {background-color: white;}#sk-container-id-1 label.sk-toggleable__label {cursor: pointer;display: block;width: 100%;margin-bottom: 0;padding: 0.3em;box-sizing: border-box;text-align: center;}#sk-container-id-1 label.sk-toggleable__label-arrow:before {content: \"▸\";float: left;margin-right: 0.25em;color: #696969;}#sk-container-id-1 label.sk-toggleable__label-arrow:hover:before {color: black;}#sk-container-id-1 div.sk-estimator:hover label.sk-toggleable__label-arrow:before {color: black;}#sk-container-id-1 div.sk-toggleable__content {max-height: 0;max-width: 0;overflow: hidden;text-align: left;background-color: #f0f8ff;}#sk-container-id-1 div.sk-toggleable__content pre {margin: 0.2em;color: black;border-radius: 0.25em;background-color: #f0f8ff;}#sk-container-id-1 input.sk-toggleable__control:checked~div.sk-toggleable__content {max-height: 200px;max-width: 100%;overflow: auto;}#sk-container-id-1 input.sk-toggleable__control:checked~label.sk-toggleable__label-arrow:before {content: \"▾\";}#sk-container-id-1 div.sk-estimator input.sk-toggleable__control:checked~label.sk-toggleable__label {background-color: #d4ebff;}#sk-container-id-1 div.sk-label input.sk-toggleable__control:checked~label.sk-toggleable__label {background-color: #d4ebff;}#sk-container-id-1 input.sk-hidden--visually {border: 0;clip: rect(1px 1px 1px 1px);clip: rect(1px, 1px, 1px, 1px);height: 1px;margin: -1px;overflow: hidden;padding: 0;position: absolute;width: 1px;}#sk-container-id-1 div.sk-estimator {font-family: monospace;background-color: #f0f8ff;border: 1px dotted black;border-radius: 0.25em;box-sizing: border-box;margin-bottom: 0.5em;}#sk-container-id-1 div.sk-estimator:hover {background-color: #d4ebff;}#sk-container-id-1 div.sk-parallel-item::after {content: \"\";width: 100%;border-bottom: 1px solid gray;flex-grow: 1;}#sk-container-id-1 div.sk-label:hover label.sk-toggleable__label {background-color: #d4ebff;}#sk-container-id-1 div.sk-serial::before {content: \"\";position: absolute;border-left: 1px solid gray;box-sizing: border-box;top: 0;bottom: 0;left: 50%;z-index: 0;}#sk-container-id-1 div.sk-serial {display: flex;flex-direction: column;align-items: center;background-color: white;padding-right: 0.2em;padding-left: 0.2em;position: relative;}#sk-container-id-1 div.sk-item {position: relative;z-index: 1;}#sk-container-id-1 div.sk-parallel {display: flex;align-items: stretch;justify-content: center;background-color: white;position: relative;}#sk-container-id-1 div.sk-item::before, #sk-container-id-1 div.sk-parallel-item::before {content: \"\";position: absolute;border-left: 1px solid gray;box-sizing: border-box;top: 0;bottom: 0;left: 50%;z-index: -1;}#sk-container-id-1 div.sk-parallel-item {display: flex;flex-direction: column;z-index: 1;position: relative;background-color: white;}#sk-container-id-1 div.sk-parallel-item:first-child::after {align-self: flex-end;width: 50%;}#sk-container-id-1 div.sk-parallel-item:last-child::after {align-self: flex-start;width: 50%;}#sk-container-id-1 div.sk-parallel-item:only-child::after {width: 0;}#sk-container-id-1 div.sk-dashed-wrapped {border: 1px dashed gray;margin: 0 0.4em 0.5em 0.4em;box-sizing: border-box;padding-bottom: 0.4em;background-color: white;}#sk-container-id-1 div.sk-label label {font-family: monospace;font-weight: bold;display: inline-block;line-height: 1.2em;}#sk-container-id-1 div.sk-label-container {text-align: center;}#sk-container-id-1 div.sk-container {/* jupyter's `normalize.less` sets `[hidden] { display: none; }` but bootstrap.min.css set `[hidden] { display: none !important; }` so we also need the `!important` here to be able to override the default hidden behavior on the sphinx rendered scikit-learn.org. See: https://github.com/scikit-learn/scikit-learn/issues/21755 */display: inline-block !important;position: relative;}#sk-container-id-1 div.sk-text-repr-fallback {display: none;}</style><div id=\"sk-container-id-1\" class=\"sk-top-container\"><div class=\"sk-text-repr-fallback\"><pre>Pipeline(steps=[(&#x27;vec&#x27;, CountVectorizer(stop_words=&#x27;english&#x27;)),\n",
       "                (&#x27;tfidf&#x27;, TfidfTransformer()),\n",
       "                (&#x27;nn&#x27;,\n",
       "                 MLPClassifier(activation=&#x27;tanh&#x27;,\n",
       "                               hidden_layer_sizes=(100, 50)))])</pre><b>In a Jupyter environment, please rerun this cell to show the HTML representation or trust the notebook. <br />On GitHub, the HTML representation is unable to render, please try loading this page with nbviewer.org.</b></div><div class=\"sk-container\" hidden><div class=\"sk-item sk-dashed-wrapped\"><div class=\"sk-label-container\"><div class=\"sk-label sk-toggleable\"><input class=\"sk-toggleable__control sk-hidden--visually\" id=\"sk-estimator-id-1\" type=\"checkbox\" ><label for=\"sk-estimator-id-1\" class=\"sk-toggleable__label sk-toggleable__label-arrow\">Pipeline</label><div class=\"sk-toggleable__content\"><pre>Pipeline(steps=[(&#x27;vec&#x27;, CountVectorizer(stop_words=&#x27;english&#x27;)),\n",
       "                (&#x27;tfidf&#x27;, TfidfTransformer()),\n",
       "                (&#x27;nn&#x27;,\n",
       "                 MLPClassifier(activation=&#x27;tanh&#x27;,\n",
       "                               hidden_layer_sizes=(100, 50)))])</pre></div></div></div><div class=\"sk-serial\"><div class=\"sk-item\"><div class=\"sk-estimator sk-toggleable\"><input class=\"sk-toggleable__control sk-hidden--visually\" id=\"sk-estimator-id-2\" type=\"checkbox\" ><label for=\"sk-estimator-id-2\" class=\"sk-toggleable__label sk-toggleable__label-arrow\">CountVectorizer</label><div class=\"sk-toggleable__content\"><pre>CountVectorizer(stop_words=&#x27;english&#x27;)</pre></div></div></div><div class=\"sk-item\"><div class=\"sk-estimator sk-toggleable\"><input class=\"sk-toggleable__control sk-hidden--visually\" id=\"sk-estimator-id-3\" type=\"checkbox\" ><label for=\"sk-estimator-id-3\" class=\"sk-toggleable__label sk-toggleable__label-arrow\">TfidfTransformer</label><div class=\"sk-toggleable__content\"><pre>TfidfTransformer()</pre></div></div></div><div class=\"sk-item\"><div class=\"sk-estimator sk-toggleable\"><input class=\"sk-toggleable__control sk-hidden--visually\" id=\"sk-estimator-id-4\" type=\"checkbox\" ><label for=\"sk-estimator-id-4\" class=\"sk-toggleable__label sk-toggleable__label-arrow\">MLPClassifier</label><div class=\"sk-toggleable__content\"><pre>MLPClassifier(activation=&#x27;tanh&#x27;, hidden_layer_sizes=(100, 50))</pre></div></div></div></div></div></div></div>"
      ],
      "text/plain": [
       "Pipeline(steps=[('vec', CountVectorizer(stop_words='english')),\n",
       "                ('tfidf', TfidfTransformer()),\n",
       "                ('nn',\n",
       "                 MLPClassifier(activation='tanh',\n",
       "                               hidden_layer_sizes=(100, 50)))])"
      ]
     },
     "execution_count": 11,
     "metadata": {},
     "output_type": "execute_result"
    }
   ],
   "source": [
    "pipe.fit(X_train,y_train)"
   ]
  },
  {
   "cell_type": "code",
   "execution_count": 12,
   "id": "1d7972ed",
   "metadata": {},
   "outputs": [
    {
     "data": {
      "text/plain": [
       "0.9899103139013453"
      ]
     },
     "execution_count": 12,
     "metadata": {},
     "output_type": "execute_result"
    }
   ],
   "source": [
    "pipe.score(X_test,y_test)"
   ]
  },
  {
   "cell_type": "code",
   "execution_count": 13,
   "id": "a4ddd177",
   "metadata": {},
   "outputs": [
    {
     "data": {
      "text/plain": [
       "<1x6675 sparse matrix of type '<class 'numpy.int64'>'\n",
       "\twith 7 stored elements in Compressed Sparse Row format>"
      ]
     },
     "execution_count": 13,
     "metadata": {},
     "output_type": "execute_result"
    }
   ],
   "source": [
    "pipe.steps[0][1].transform(['Die... I accidentally deleted e msg i suppose 2 put in e sim archive. Haiz... I so sad...'])"
   ]
  },
  {
   "cell_type": "code",
   "execution_count": 14,
   "id": "68793a13",
   "metadata": {},
   "outputs": [],
   "source": [
    "#pipe.steps[0][1].vocabulary_"
   ]
  },
  {
   "cell_type": "code",
   "execution_count": 15,
   "id": "15e5dcd9",
   "metadata": {},
   "outputs": [],
   "source": [
    "out = pipe.predict(['Hello friend I have a business opportunity for you'])"
   ]
  },
  {
   "cell_type": "code",
   "execution_count": 16,
   "id": "78e393c2",
   "metadata": {},
   "outputs": [
    {
     "data": {
      "text/plain": [
       "array(['ham'], dtype='<U4')"
      ]
     },
     "execution_count": 16,
     "metadata": {},
     "output_type": "execute_result"
    }
   ],
   "source": [
    "out"
   ]
  },
  {
   "cell_type": "markdown",
   "id": "f6ca0275",
   "metadata": {},
   "source": [
    "We can use `predict_proba` to estimate class probabilities and adjust the predictions to the context of the problem.\n",
    "\n",
    "For example, to decrease the \"risk tolerance\" of a prediction."
   ]
  },
  {
   "cell_type": "code",
   "execution_count": 17,
   "id": "914fdf8f",
   "metadata": {},
   "outputs": [],
   "source": [
    "probas = pipe.predict_proba([\"you have received your package\"])\n",
    "ham_proba, spam_proba = probas[0]\n",
    "\n",
    "if spam_proba > 0.02:\n",
    "    out = 'spam'\n",
    "else:\n",
    "    out = 'ham'"
   ]
  },
  {
   "cell_type": "code",
   "execution_count": 18,
   "id": "d7157315",
   "metadata": {},
   "outputs": [
    {
     "data": {
      "text/plain": [
       "array([[0.97047268, 0.02952732]])"
      ]
     },
     "execution_count": 18,
     "metadata": {},
     "output_type": "execute_result"
    }
   ],
   "source": [
    "probas"
   ]
  },
  {
   "cell_type": "code",
   "execution_count": 19,
   "id": "4a2e0020",
   "metadata": {},
   "outputs": [
    {
     "data": {
      "text/plain": [
       "'spam'"
      ]
     },
     "execution_count": 19,
     "metadata": {},
     "output_type": "execute_result"
    }
   ],
   "source": [
    "out"
   ]
  },
  {
   "cell_type": "markdown",
   "id": "3784251a",
   "metadata": {},
   "source": [
    "## Model persistence\n",
    "\n",
    "Scikit allows to save trained model objects as binary files (pickled) that can be read as part of an application (unrelated to scikit)."
   ]
  },
  {
   "cell_type": "code",
   "execution_count": 20,
   "id": "c4275091",
   "metadata": {},
   "outputs": [
    {
     "data": {
      "text/plain": [
       "['pipeline.joblib']"
      ]
     },
     "execution_count": 20,
     "metadata": {},
     "output_type": "execute_result"
    }
   ],
   "source": [
    "import joblib\n",
    "joblib.dump(pipe, 'pipeline.joblib')"
   ]
  },
  {
   "cell_type": "markdown",
   "id": "08a2b0c9",
   "metadata": {},
   "source": [
    "## Weights\n",
    "\n",
    "The coefficients obtained after the training process are stored within the trained model."
   ]
  },
  {
   "cell_type": "code",
   "execution_count": 21,
   "id": "26308db5",
   "metadata": {},
   "outputs": [
    {
     "data": {
      "text/plain": [
       "[array([[-0.0884637 , -0.07070647, -0.06250891, ...,  0.02013007,\n",
       "          0.03045472, -0.03072784],\n",
       "        [-0.0448542 , -0.05897063, -0.01947329, ...,  0.07140766,\n",
       "          0.07477373, -0.07887229],\n",
       "        [-0.01773429,  0.00717264, -0.03101202, ...,  0.031767  ,\n",
       "          0.03357763, -0.01458764],\n",
       "        ...,\n",
       "        [ 0.03076577,  0.01197231, -0.01569317, ...,  0.0110255 ,\n",
       "         -0.01095331,  0.01848178],\n",
       "        [ 0.03328595,  0.0279206 ,  0.0389511 , ..., -0.0279006 ,\n",
       "         -0.00358692,  0.00501672],\n",
       "        [-0.0394933 , -0.02360851,  0.00284352, ...,  0.03985124,\n",
       "          0.02924802, -0.02196685]]),\n",
       " array([[ 0.17830968,  0.0270272 ,  0.04922544, ..., -0.06990876,\n",
       "          0.16411163, -0.22742161],\n",
       "        [ 0.00432477, -0.05728062,  0.2341059 , ...,  0.16238924,\n",
       "          0.19677373,  0.1296201 ],\n",
       "        [ 0.21754405,  0.17922119,  0.09621939, ..., -0.11161983,\n",
       "          0.25206542, -0.16606721],\n",
       "        ...,\n",
       "        [-0.11247266, -0.06645987, -0.18661159, ...,  0.08635942,\n",
       "         -0.14344742, -0.09791738],\n",
       "        [-0.01707739, -0.03276941,  0.0116222 , ..., -0.09006262,\n",
       "          0.0591024 , -0.01498223],\n",
       "        [ 0.05505267, -0.08137893,  0.05450235, ...,  0.05143488,\n",
       "          0.04557915, -0.20804533]]),\n",
       " array([[-0.40937338],\n",
       "        [-0.16727084],\n",
       "        [-0.44418887],\n",
       "        [-0.14996826],\n",
       "        [-0.39909203],\n",
       "        [-0.32797309],\n",
       "        [ 0.14627576],\n",
       "        [-0.41529085],\n",
       "        [-0.30600896],\n",
       "        [ 0.3078145 ],\n",
       "        [ 0.31244322],\n",
       "        [ 0.37843587],\n",
       "        [ 0.13712726],\n",
       "        [-0.13501701],\n",
       "        [ 0.31748289],\n",
       "        [ 0.41505713],\n",
       "        [ 0.37153343],\n",
       "        [-0.06904352],\n",
       "        [ 0.33158296],\n",
       "        [ 0.37936259],\n",
       "        [ 0.14327508],\n",
       "        [ 0.13638565],\n",
       "        [-0.21560202],\n",
       "        [-0.43007646],\n",
       "        [-0.25565054],\n",
       "        [-0.08675336],\n",
       "        [ 0.30794296],\n",
       "        [-0.3762065 ],\n",
       "        [ 0.36872585],\n",
       "        [ 0.18031819],\n",
       "        [-0.26838046],\n",
       "        [-0.37334532],\n",
       "        [ 0.21097525],\n",
       "        [ 0.36145837],\n",
       "        [-0.35106583],\n",
       "        [ 0.34361114],\n",
       "        [-0.09447483],\n",
       "        [ 0.17504246],\n",
       "        [ 0.19890982],\n",
       "        [-0.33001265],\n",
       "        [ 0.20333817],\n",
       "        [ 0.22107167],\n",
       "        [-0.35333184],\n",
       "        [ 0.24331527],\n",
       "        [-0.3136838 ],\n",
       "        [ 0.16951539],\n",
       "        [-0.15014847],\n",
       "        [-0.17723792],\n",
       "        [-0.32551517],\n",
       "        [ 0.21755263]])]"
      ]
     },
     "execution_count": 21,
     "metadata": {},
     "output_type": "execute_result"
    }
   ],
   "source": [
    "pipe.steps[2][1].coefs_"
   ]
  },
  {
   "cell_type": "code",
   "execution_count": 22,
   "id": "71c04c5f",
   "metadata": {},
   "outputs": [
    {
     "data": {
      "text/plain": [
       "(6675, 100)"
      ]
     },
     "execution_count": 22,
     "metadata": {},
     "output_type": "execute_result"
    }
   ],
   "source": [
    "pipe.steps[2][1].coefs_[0].shape"
   ]
  },
  {
   "cell_type": "code",
   "execution_count": 23,
   "id": "99e6d0cb",
   "metadata": {},
   "outputs": [
    {
     "data": {
      "text/plain": [
       "array([-0.0884637 , -0.07070647, -0.06250891,  0.02966097,  0.05142674,\n",
       "       -0.04800198,  0.051602  , -0.01568438, -0.03685121, -0.02354842,\n",
       "        0.0457416 ,  0.04662104,  0.04337081,  0.05345496,  0.03690122,\n",
       "       -0.03225592, -0.08347124,  0.06539286,  0.05711338,  0.07705857,\n",
       "       -0.06295594,  0.03799249, -0.0408633 , -0.06774585, -0.07409065,\n",
       "       -0.07244382,  0.04403613,  0.07214189,  0.05514062,  0.07345335,\n",
       "       -0.02409938,  0.04364261, -0.04050851, -0.06017675,  0.08194027,\n",
       "        0.04623038,  0.07867552,  0.07345716, -0.04072053,  0.06031723,\n",
       "       -0.03687323,  0.05147947, -0.02088904, -0.03409547, -0.05529798,\n",
       "        0.04403192,  0.04813701,  0.02424484,  0.02536899,  0.05655566,\n",
       "       -0.06273225,  0.07106833,  0.05083229, -0.0634876 , -0.05235338,\n",
       "       -0.03550785, -0.04875777, -0.06613855,  0.06371321,  0.03983269,\n",
       "        0.02310205, -0.02175337,  0.05924569,  0.06322394, -0.05418533,\n",
       "        0.03302509, -0.04918743, -0.04844036, -0.06466188, -0.06134093,\n",
       "       -0.0383887 , -0.0501622 , -0.06961052,  0.03434003, -0.03456896,\n",
       "       -0.03709177,  0.05516598,  0.03749189,  0.05637637, -0.04995251,\n",
       "        0.03416881, -0.07516259, -0.05216777,  0.00809505, -0.07237882,\n",
       "        0.05570054, -0.06689047,  0.02734431,  0.0376549 ,  0.03617063,\n",
       "        0.03330694, -0.04278616,  0.01873785, -0.0340062 ,  0.07726843,\n",
       "        0.0744492 , -0.03734636,  0.02013007,  0.03045472, -0.03072784])"
      ]
     },
     "execution_count": 23,
     "metadata": {},
     "output_type": "execute_result"
    }
   ],
   "source": [
    "pipe.steps[2][1].coefs_[0][0]"
   ]
  },
  {
   "cell_type": "code",
   "execution_count": null,
   "id": "959ed5b9",
   "metadata": {},
   "outputs": [],
   "source": []
  }
 ],
 "metadata": {
  "kernelspec": {
   "display_name": "Python 3 (ipykernel)",
   "language": "python",
   "name": "python3"
  },
  "language_info": {
   "codemirror_mode": {
    "name": "ipython",
    "version": 3
   },
   "file_extension": ".py",
   "mimetype": "text/x-python",
   "name": "python",
   "nbconvert_exporter": "python",
   "pygments_lexer": "ipython3",
   "version": "3.10.4"
  }
 },
 "nbformat": 4,
 "nbformat_minor": 5
}
