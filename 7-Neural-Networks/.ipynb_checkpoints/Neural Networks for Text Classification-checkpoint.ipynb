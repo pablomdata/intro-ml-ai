{
 "cells": [
  {
   "cell_type": "code",
   "execution_count": 1,
   "id": "178bfa6e",
   "metadata": {},
   "outputs": [],
   "source": [
    "import pandas as pd"
   ]
  },
  {
   "cell_type": "code",
   "execution_count": 2,
   "id": "70aa8e83",
   "metadata": {},
   "outputs": [],
   "source": [
    "df = pd.read_csv('./data/spam.csv')"
   ]
  },
  {
   "cell_type": "code",
   "execution_count": 3,
   "id": "49dd72ee",
   "metadata": {},
   "outputs": [
    {
     "data": {
      "text/html": [
       "<div>\n",
       "<style scoped>\n",
       "    .dataframe tbody tr th:only-of-type {\n",
       "        vertical-align: middle;\n",
       "    }\n",
       "\n",
       "    .dataframe tbody tr th {\n",
       "        vertical-align: top;\n",
       "    }\n",
       "\n",
       "    .dataframe thead th {\n",
       "        text-align: right;\n",
       "    }\n",
       "</style>\n",
       "<table border=\"1\" class=\"dataframe\">\n",
       "  <thead>\n",
       "    <tr style=\"text-align: right;\">\n",
       "      <th></th>\n",
       "      <th>input</th>\n",
       "      <th>target</th>\n",
       "    </tr>\n",
       "  </thead>\n",
       "  <tbody>\n",
       "    <tr>\n",
       "      <th>0</th>\n",
       "      <td>Ok lar... Joking wif u oni...</td>\n",
       "      <td>ham</td>\n",
       "    </tr>\n",
       "    <tr>\n",
       "      <th>1</th>\n",
       "      <td>Free entry in 2 a wkly comp to win FA Cup fina...</td>\n",
       "      <td>spam</td>\n",
       "    </tr>\n",
       "    <tr>\n",
       "      <th>2</th>\n",
       "      <td>U dun say so early hor... U c already then say...</td>\n",
       "      <td>ham</td>\n",
       "    </tr>\n",
       "    <tr>\n",
       "      <th>3</th>\n",
       "      <td>Nah I don't think he goes to usf, he lives aro...</td>\n",
       "      <td>ham</td>\n",
       "    </tr>\n",
       "    <tr>\n",
       "      <th>4</th>\n",
       "      <td>FreeMsg Hey there darling it's been 3 week's n...</td>\n",
       "      <td>spam</td>\n",
       "    </tr>\n",
       "  </tbody>\n",
       "</table>\n",
       "</div>"
      ],
      "text/plain": [
       "                                               input target\n",
       "0                      Ok lar... Joking wif u oni...    ham\n",
       "1  Free entry in 2 a wkly comp to win FA Cup fina...   spam\n",
       "2  U dun say so early hor... U c already then say...    ham\n",
       "3  Nah I don't think he goes to usf, he lives aro...    ham\n",
       "4  FreeMsg Hey there darling it's been 3 week's n...   spam"
      ]
     },
     "execution_count": 3,
     "metadata": {},
     "output_type": "execute_result"
    }
   ],
   "source": [
    "df.head()"
   ]
  },
  {
   "cell_type": "markdown",
   "id": "33f34708",
   "metadata": {},
   "source": [
    "## Text classification\n",
    "\n",
    "**Task:** Create a model that calculates the class (spam/ham) of a given message.\n",
    "\n",
    "We will do this by creating a Pipeline that will consist of 3 steps:\n",
    "\n",
    "- Vectorize the data (representing input and target as vectors)/\n",
    "- Transform the data.\n",
    "- Create a classification model on top of the new representation of the data."
   ]
  },
  {
   "cell_type": "code",
   "execution_count": 4,
   "id": "e11c58e0",
   "metadata": {},
   "outputs": [
    {
     "name": "stderr",
     "output_type": "stream",
     "text": [
      "C:\\Users\\pablo\\AppData\\Local\\Programs\\Python\\Python310\\lib\\site-packages\\scipy\\__init__.py:169: UserWarning: A NumPy version >=1.18.5 and <1.26.0 is required for this version of SciPy (detected version 1.26.4\n",
      "  warnings.warn(f\"A NumPy version >={np_minversion} and <{np_maxversion}\"\n"
     ]
    }
   ],
   "source": [
    "from sklearn.pipeline import Pipeline"
   ]
  },
  {
   "cell_type": "code",
   "execution_count": 5,
   "id": "361ba845",
   "metadata": {},
   "outputs": [],
   "source": [
    "# Vectorizer\n",
    "from sklearn.feature_extraction.text import CountVectorizer\n",
    "\n",
    "# Transformer\n",
    "from sklearn.feature_extraction.text import TfidfTransformer #Term frequency * inverse document frequency\n",
    "\n",
    "# Classifier\n",
    "from sklearn.neural_network import MLPClassifier"
   ]
  },
  {
   "cell_type": "code",
   "execution_count": 6,
   "id": "73aa6f47",
   "metadata": {},
   "outputs": [],
   "source": [
    "pipe = Pipeline([\n",
    "    ('vec', CountVectorizer(stop_words='english')),\n",
    "    ('tfidf', TfidfTransformer()), \n",
    "    ('nn', MLPClassifier(hidden_layer_sizes=(100,50,), activation='tanh'))\n",
    "])"
   ]
  },
  {
   "cell_type": "code",
   "execution_count": 7,
   "id": "ae40ce4e",
   "metadata": {},
   "outputs": [],
   "source": [
    "X = df['input']"
   ]
  },
  {
   "cell_type": "code",
   "execution_count": 8,
   "id": "00c9eb31",
   "metadata": {},
   "outputs": [],
   "source": [
    "from sklearn.preprocessing import LabelEncoder\n",
    "\n",
    "le = LabelEncoder()\n",
    "y = le.fit_transform(df['target'])"
   ]
  },
  {
   "cell_type": "code",
   "execution_count": 9,
   "id": "13a26ede",
   "metadata": {},
   "outputs": [
    {
     "data": {
      "text/html": [
       "<style>#sk-container-id-1 {color: black;background-color: white;}#sk-container-id-1 pre{padding: 0;}#sk-container-id-1 div.sk-toggleable {background-color: white;}#sk-container-id-1 label.sk-toggleable__label {cursor: pointer;display: block;width: 100%;margin-bottom: 0;padding: 0.3em;box-sizing: border-box;text-align: center;}#sk-container-id-1 label.sk-toggleable__label-arrow:before {content: \"▸\";float: left;margin-right: 0.25em;color: #696969;}#sk-container-id-1 label.sk-toggleable__label-arrow:hover:before {color: black;}#sk-container-id-1 div.sk-estimator:hover label.sk-toggleable__label-arrow:before {color: black;}#sk-container-id-1 div.sk-toggleable__content {max-height: 0;max-width: 0;overflow: hidden;text-align: left;background-color: #f0f8ff;}#sk-container-id-1 div.sk-toggleable__content pre {margin: 0.2em;color: black;border-radius: 0.25em;background-color: #f0f8ff;}#sk-container-id-1 input.sk-toggleable__control:checked~div.sk-toggleable__content {max-height: 200px;max-width: 100%;overflow: auto;}#sk-container-id-1 input.sk-toggleable__control:checked~label.sk-toggleable__label-arrow:before {content: \"▾\";}#sk-container-id-1 div.sk-estimator input.sk-toggleable__control:checked~label.sk-toggleable__label {background-color: #d4ebff;}#sk-container-id-1 div.sk-label input.sk-toggleable__control:checked~label.sk-toggleable__label {background-color: #d4ebff;}#sk-container-id-1 input.sk-hidden--visually {border: 0;clip: rect(1px 1px 1px 1px);clip: rect(1px, 1px, 1px, 1px);height: 1px;margin: -1px;overflow: hidden;padding: 0;position: absolute;width: 1px;}#sk-container-id-1 div.sk-estimator {font-family: monospace;background-color: #f0f8ff;border: 1px dotted black;border-radius: 0.25em;box-sizing: border-box;margin-bottom: 0.5em;}#sk-container-id-1 div.sk-estimator:hover {background-color: #d4ebff;}#sk-container-id-1 div.sk-parallel-item::after {content: \"\";width: 100%;border-bottom: 1px solid gray;flex-grow: 1;}#sk-container-id-1 div.sk-label:hover label.sk-toggleable__label {background-color: #d4ebff;}#sk-container-id-1 div.sk-serial::before {content: \"\";position: absolute;border-left: 1px solid gray;box-sizing: border-box;top: 0;bottom: 0;left: 50%;z-index: 0;}#sk-container-id-1 div.sk-serial {display: flex;flex-direction: column;align-items: center;background-color: white;padding-right: 0.2em;padding-left: 0.2em;position: relative;}#sk-container-id-1 div.sk-item {position: relative;z-index: 1;}#sk-container-id-1 div.sk-parallel {display: flex;align-items: stretch;justify-content: center;background-color: white;position: relative;}#sk-container-id-1 div.sk-item::before, #sk-container-id-1 div.sk-parallel-item::before {content: \"\";position: absolute;border-left: 1px solid gray;box-sizing: border-box;top: 0;bottom: 0;left: 50%;z-index: -1;}#sk-container-id-1 div.sk-parallel-item {display: flex;flex-direction: column;z-index: 1;position: relative;background-color: white;}#sk-container-id-1 div.sk-parallel-item:first-child::after {align-self: flex-end;width: 50%;}#sk-container-id-1 div.sk-parallel-item:last-child::after {align-self: flex-start;width: 50%;}#sk-container-id-1 div.sk-parallel-item:only-child::after {width: 0;}#sk-container-id-1 div.sk-dashed-wrapped {border: 1px dashed gray;margin: 0 0.4em 0.5em 0.4em;box-sizing: border-box;padding-bottom: 0.4em;background-color: white;}#sk-container-id-1 div.sk-label label {font-family: monospace;font-weight: bold;display: inline-block;line-height: 1.2em;}#sk-container-id-1 div.sk-label-container {text-align: center;}#sk-container-id-1 div.sk-container {/* jupyter's `normalize.less` sets `[hidden] { display: none; }` but bootstrap.min.css set `[hidden] { display: none !important; }` so we also need the `!important` here to be able to override the default hidden behavior on the sphinx rendered scikit-learn.org. See: https://github.com/scikit-learn/scikit-learn/issues/21755 */display: inline-block !important;position: relative;}#sk-container-id-1 div.sk-text-repr-fallback {display: none;}</style><div id=\"sk-container-id-1\" class=\"sk-top-container\"><div class=\"sk-text-repr-fallback\"><pre>Pipeline(steps=[(&#x27;vec&#x27;, CountVectorizer(stop_words=&#x27;english&#x27;)),\n",
       "                (&#x27;tfidf&#x27;, TfidfTransformer()),\n",
       "                (&#x27;nn&#x27;,\n",
       "                 MLPClassifier(activation=&#x27;tanh&#x27;,\n",
       "                               hidden_layer_sizes=(100, 50)))])</pre><b>In a Jupyter environment, please rerun this cell to show the HTML representation or trust the notebook. <br />On GitHub, the HTML representation is unable to render, please try loading this page with nbviewer.org.</b></div><div class=\"sk-container\" hidden><div class=\"sk-item sk-dashed-wrapped\"><div class=\"sk-label-container\"><div class=\"sk-label sk-toggleable\"><input class=\"sk-toggleable__control sk-hidden--visually\" id=\"sk-estimator-id-1\" type=\"checkbox\" ><label for=\"sk-estimator-id-1\" class=\"sk-toggleable__label sk-toggleable__label-arrow\">Pipeline</label><div class=\"sk-toggleable__content\"><pre>Pipeline(steps=[(&#x27;vec&#x27;, CountVectorizer(stop_words=&#x27;english&#x27;)),\n",
       "                (&#x27;tfidf&#x27;, TfidfTransformer()),\n",
       "                (&#x27;nn&#x27;,\n",
       "                 MLPClassifier(activation=&#x27;tanh&#x27;,\n",
       "                               hidden_layer_sizes=(100, 50)))])</pre></div></div></div><div class=\"sk-serial\"><div class=\"sk-item\"><div class=\"sk-estimator sk-toggleable\"><input class=\"sk-toggleable__control sk-hidden--visually\" id=\"sk-estimator-id-2\" type=\"checkbox\" ><label for=\"sk-estimator-id-2\" class=\"sk-toggleable__label sk-toggleable__label-arrow\">CountVectorizer</label><div class=\"sk-toggleable__content\"><pre>CountVectorizer(stop_words=&#x27;english&#x27;)</pre></div></div></div><div class=\"sk-item\"><div class=\"sk-estimator sk-toggleable\"><input class=\"sk-toggleable__control sk-hidden--visually\" id=\"sk-estimator-id-3\" type=\"checkbox\" ><label for=\"sk-estimator-id-3\" class=\"sk-toggleable__label sk-toggleable__label-arrow\">TfidfTransformer</label><div class=\"sk-toggleable__content\"><pre>TfidfTransformer()</pre></div></div></div><div class=\"sk-item\"><div class=\"sk-estimator sk-toggleable\"><input class=\"sk-toggleable__control sk-hidden--visually\" id=\"sk-estimator-id-4\" type=\"checkbox\" ><label for=\"sk-estimator-id-4\" class=\"sk-toggleable__label sk-toggleable__label-arrow\">MLPClassifier</label><div class=\"sk-toggleable__content\"><pre>MLPClassifier(activation=&#x27;tanh&#x27;, hidden_layer_sizes=(100, 50))</pre></div></div></div></div></div></div></div>"
      ],
      "text/plain": [
       "Pipeline(steps=[('vec', CountVectorizer(stop_words='english')),\n",
       "                ('tfidf', TfidfTransformer()),\n",
       "                ('nn',\n",
       "                 MLPClassifier(activation='tanh',\n",
       "                               hidden_layer_sizes=(100, 50)))])"
      ]
     },
     "execution_count": 9,
     "metadata": {},
     "output_type": "execute_result"
    }
   ],
   "source": [
    "pipe.fit(X,y)"
   ]
  },
  {
   "cell_type": "code",
   "execution_count": 10,
   "id": "1d7972ed",
   "metadata": {},
   "outputs": [
    {
     "data": {
      "text/plain": [
       "1.0"
      ]
     },
     "execution_count": 10,
     "metadata": {},
     "output_type": "execute_result"
    }
   ],
   "source": [
    "pipe.score(X,y)"
   ]
  },
  {
   "cell_type": "code",
   "execution_count": 11,
   "id": "15e5dcd9",
   "metadata": {},
   "outputs": [],
   "source": [
    "out = pipe.predict(['Die... I accidentally deleted e msg i suppose 2 put in e sim archive. Haiz... I so sad...'])"
   ]
  },
  {
   "cell_type": "code",
   "execution_count": 12,
   "id": "78e393c2",
   "metadata": {},
   "outputs": [
    {
     "data": {
      "text/plain": [
       "array(['ham'], dtype=object)"
      ]
     },
     "execution_count": 12,
     "metadata": {},
     "output_type": "execute_result"
    }
   ],
   "source": [
    "le.inverse_transform(out)"
   ]
  },
  {
   "cell_type": "markdown",
   "id": "f6ca0275",
   "metadata": {},
   "source": [
    "We can use `predict_proba` to estimate class probabilities and adjust the predictions to the context of the problem.\n",
    "\n",
    "For example, to decrease the \"risk tolerance\" of a prediction."
   ]
  },
  {
   "cell_type": "code",
   "execution_count": 13,
   "id": "914fdf8f",
   "metadata": {},
   "outputs": [],
   "source": [
    "probas = pipe.predict_proba([\"you have received your package\"])\n",
    "ham_proba, spam_proba = probas[0]\n",
    "\n",
    "if spam_proba > 0.02:\n",
    "    out = 'spam'\n",
    "else:\n",
    "    out = 'ham'"
   ]
  },
  {
   "cell_type": "code",
   "execution_count": 14,
   "id": "d7157315",
   "metadata": {},
   "outputs": [
    {
     "data": {
      "text/plain": [
       "array([[0.98634358, 0.01365642]])"
      ]
     },
     "execution_count": 14,
     "metadata": {},
     "output_type": "execute_result"
    }
   ],
   "source": [
    "probas"
   ]
  },
  {
   "cell_type": "code",
   "execution_count": 15,
   "id": "4a2e0020",
   "metadata": {},
   "outputs": [
    {
     "data": {
      "text/plain": [
       "'ham'"
      ]
     },
     "execution_count": 15,
     "metadata": {},
     "output_type": "execute_result"
    }
   ],
   "source": [
    "out"
   ]
  },
  {
   "cell_type": "markdown",
   "id": "3784251a",
   "metadata": {},
   "source": [
    "## Model persistence\n",
    "\n",
    "Scikit allows to save trained model objects as binary files (pickled) that can be read as part of an application (unrelated to scikit)."
   ]
  },
  {
   "cell_type": "code",
   "execution_count": 16,
   "id": "c4275091",
   "metadata": {},
   "outputs": [
    {
     "data": {
      "text/plain": [
       "['pipeline.pkl']"
      ]
     },
     "execution_count": 16,
     "metadata": {},
     "output_type": "execute_result"
    }
   ],
   "source": [
    "import joblib\n",
    "joblib.dump(pipe, 'pipeline.pkl')"
   ]
  },
  {
   "cell_type": "markdown",
   "id": "08a2b0c9",
   "metadata": {},
   "source": [
    "## Weights\n",
    "\n",
    "The coefficients obtained after the training process are stored within the trained model."
   ]
  },
  {
   "cell_type": "code",
   "execution_count": 17,
   "id": "26308db5",
   "metadata": {},
   "outputs": [
    {
     "data": {
      "text/plain": [
       "[array([[ 0.05350618, -0.03040398, -0.04394492, ..., -0.02129842,\n",
       "          0.02469654,  0.07387793],\n",
       "        [ 0.06529762, -0.0414888 , -0.05769114, ..., -0.04278381,\n",
       "          0.04022994,  0.03124056],\n",
       "        [ 0.00989029, -0.0040283 ,  0.00796734, ...,  0.02597673,\n",
       "         -0.00776022, -0.01977846],\n",
       "        ...,\n",
       "        [-0.00391779,  0.0302778 ,  0.01106432, ...,  0.00484698,\n",
       "          0.01020368, -0.03297961],\n",
       "        [-0.00164602,  0.00280126,  0.01385728, ...,  0.03091237,\n",
       "         -0.00292893,  0.00396123],\n",
       "        [ 0.04538837, -0.04525029,  0.00228118, ..., -0.00958166,\n",
       "          0.01245021,  0.02773307]]),\n",
       " array([[ 0.03499236,  0.22202564, -0.0718144 , ..., -0.08923861,\n",
       "         -0.18124863,  0.26047121],\n",
       "        [-0.09028339, -0.12862633,  0.26702516, ...,  0.25358383,\n",
       "          0.15024501, -0.16811977],\n",
       "        [ 0.26465371,  0.07904608,  0.09876234, ...,  0.04896578,\n",
       "          0.13148824, -0.1442469 ],\n",
       "        ...,\n",
       "        [ 0.25330312, -0.06370079,  0.17792987, ...,  0.1616823 ,\n",
       "         -0.02549082, -0.14835076],\n",
       "        [-0.08369391,  0.21378643, -0.0102789 , ..., -0.25857891,\n",
       "         -0.28074901,  0.10994472],\n",
       "        [-0.04085674,  0.0792144 , -0.26414152, ..., -0.14695415,\n",
       "         -0.20100787,  0.00587134]]),\n",
       " array([[-0.20806235],\n",
       "        [ 0.29866356],\n",
       "        [-0.19585723],\n",
       "        [-0.19524486],\n",
       "        [ 0.40461782],\n",
       "        [-0.32508649],\n",
       "        [-0.22646308],\n",
       "        [-0.36543938],\n",
       "        [-0.08495582],\n",
       "        [-0.28264333],\n",
       "        [-0.34894119],\n",
       "        [ 0.29682452],\n",
       "        [-0.37107452],\n",
       "        [ 0.31188842],\n",
       "        [ 0.33217512],\n",
       "        [ 0.34024574],\n",
       "        [ 0.33331725],\n",
       "        [ 0.2600619 ],\n",
       "        [ 0.33287501],\n",
       "        [ 0.25966032],\n",
       "        [ 0.21242124],\n",
       "        [-0.2802233 ],\n",
       "        [-0.17834877],\n",
       "        [ 0.29123978],\n",
       "        [-0.14481158],\n",
       "        [ 0.35747778],\n",
       "        [ 0.31278214],\n",
       "        [ 0.04765529],\n",
       "        [-0.38693097],\n",
       "        [-0.15602162],\n",
       "        [-0.17408427],\n",
       "        [-0.29508891],\n",
       "        [ 0.25295612],\n",
       "        [-0.23327269],\n",
       "        [ 0.09729699],\n",
       "        [-0.44726672],\n",
       "        [-0.27711562],\n",
       "        [-0.18685178],\n",
       "        [-0.24894197],\n",
       "        [ 0.27810523],\n",
       "        [-0.18700555],\n",
       "        [ 0.40740566],\n",
       "        [ 0.09870695],\n",
       "        [-0.22938186],\n",
       "        [-0.19031595],\n",
       "        [ 0.43087758],\n",
       "        [-0.40636256],\n",
       "        [-0.08435405],\n",
       "        [-0.22579329],\n",
       "        [ 0.42588856]])]"
      ]
     },
     "execution_count": 17,
     "metadata": {},
     "output_type": "execute_result"
    }
   ],
   "source": [
    "pipe.steps[2][1].coefs_"
   ]
  },
  {
   "cell_type": "code",
   "execution_count": 18,
   "id": "71c04c5f",
   "metadata": {},
   "outputs": [
    {
     "data": {
      "text/plain": [
       "(7505, 100)"
      ]
     },
     "execution_count": 18,
     "metadata": {},
     "output_type": "execute_result"
    }
   ],
   "source": [
    "pipe.steps[2][1].coefs_[0].shape"
   ]
  },
  {
   "cell_type": "code",
   "execution_count": 19,
   "id": "99e6d0cb",
   "metadata": {},
   "outputs": [
    {
     "data": {
      "text/plain": [
       "array([ 0.05350618, -0.03040398, -0.04394492, -0.07246585,  0.05877407,\n",
       "        0.06283825, -0.02474915, -0.03631948, -0.07692276, -0.06138606,\n",
       "        0.04581669, -0.03009157,  0.05827165, -0.08901121,  0.035561  ,\n",
       "       -0.06073579,  0.06348444, -0.06565675,  0.0486393 ,  0.06387082,\n",
       "        0.04514307,  0.06663691, -0.06452388, -0.02535899,  0.04882097,\n",
       "       -0.05427195,  0.03529098, -0.03593724, -0.03134151,  0.03807798,\n",
       "       -0.0862536 ,  0.0553752 , -0.03048642, -0.04405498,  0.07199328,\n",
       "        0.07061589,  0.03110469, -0.02836107,  0.02774807, -0.04109428,\n",
       "        0.05765969, -0.02373062,  0.06921763, -0.07741337,  0.0416306 ,\n",
       "       -0.02584814,  0.06064964, -0.03679758, -0.02177264,  0.05453975,\n",
       "        0.05445935, -0.0624127 , -0.04123801, -0.0429893 ,  0.06570579,\n",
       "       -0.07130807,  0.02527219, -0.03043807, -0.03741513,  0.03626732,\n",
       "        0.05267795, -0.0382423 , -0.05657447,  0.05475551,  0.07054788,\n",
       "       -0.07283638, -0.06590839, -0.05957507,  0.03502571,  0.03796691,\n",
       "       -0.07447737,  0.02003277,  0.02855685, -0.05037335, -0.07051739,\n",
       "       -0.06467169,  0.03809353, -0.06765185,  0.07837755,  0.04098462,\n",
       "        0.05308733,  0.04419911, -0.06696509,  0.03303373, -0.03343731,\n",
       "        0.04927209, -0.03317372,  0.01872041,  0.07711245,  0.0420462 ,\n",
       "       -0.06627755, -0.02892818, -0.03621062,  0.06434037,  0.06294105,\n",
       "       -0.08268235,  0.05755151, -0.02129842,  0.02469654,  0.07387793])"
      ]
     },
     "execution_count": 19,
     "metadata": {},
     "output_type": "execute_result"
    }
   ],
   "source": [
    "pipe.steps[2][1].coefs_[0][0]"
   ]
  },
  {
   "cell_type": "code",
   "execution_count": null,
   "id": "959ed5b9",
   "metadata": {},
   "outputs": [],
   "source": []
  }
 ],
 "metadata": {
  "kernelspec": {
   "display_name": "Python 3 (ipykernel)",
   "language": "python",
   "name": "python3"
  },
  "language_info": {
   "codemirror_mode": {
    "name": "ipython",
    "version": 3
   },
   "file_extension": ".py",
   "mimetype": "text/x-python",
   "name": "python",
   "nbconvert_exporter": "python",
   "pygments_lexer": "ipython3",
   "version": "3.10.4"
  }
 },
 "nbformat": 4,
 "nbformat_minor": 5
}
