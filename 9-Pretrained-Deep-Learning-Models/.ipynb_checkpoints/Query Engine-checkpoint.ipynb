{
 "cells": [
  {
   "cell_type": "code",
   "execution_count": 1,
   "id": "ef04a1c2-38c5-419c-bc19-2b3b11c4fec6",
   "metadata": {},
   "outputs": [],
   "source": [
    "from llama_index.core import VectorStoreIndex, SimpleDirectoryReader"
   ]
  },
  {
   "cell_type": "code",
   "execution_count": 2,
   "id": "9ad40e1e-5389-48f6-837d-0532f30afdd0",
   "metadata": {},
   "outputs": [],
   "source": [
    "import os\n",
    "    \n",
    "# add your openai api key here\n",
    "os.environ['OPENAI_API_KEY'] = 'sk-xx'        "
   ]
  },
  {
   "cell_type": "code",
   "execution_count": 3,
   "id": "9560f044-bd6d-47f5-a9a6-9b607676cce2",
   "metadata": {},
   "outputs": [],
   "source": [
    "# load documents\n",
    "documents = SimpleDirectoryReader(\"./data/movies\").load_data()"
   ]
  },
  {
   "cell_type": "code",
   "execution_count": 4,
   "id": "d3829932-c792-4001-a1ba-2627aec3c08a",
   "metadata": {},
   "outputs": [],
   "source": [
    "index = VectorStoreIndex.from_documents(documents)"
   ]
  },
  {
   "cell_type": "code",
   "execution_count": 5,
   "id": "4004ebff-6286-4085-abd7-afd6dc61ea74",
   "metadata": {},
   "outputs": [],
   "source": [
    "query_engine = index.as_query_engine(streaming=True, similarity_top_k=1)\n",
    "response_stream = query_engine.query(\n",
    "    \"What happens at the end of the movie?\",\n",
    ")"
   ]
  },
  {
   "cell_type": "code",
   "execution_count": 6,
   "id": "90ae3ed3-ece2-4bbf-b719-3b40a3017598",
   "metadata": {},
   "outputs": [
    {
     "name": "stdout",
     "output_type": "stream",
     "text": [
      "The father becomes very still.\n"
     ]
    }
   ],
   "source": [
    "response_stream.print_response_stream()"
   ]
  },
  {
   "cell_type": "code",
   "execution_count": null,
   "id": "9f094d53-d7e7-4bed-9e7a-790d08f0b413",
   "metadata": {},
   "outputs": [],
   "source": []
  }
 ],
 "metadata": {
  "kernelspec": {
   "display_name": "Python 3 (ipykernel)",
   "language": "python",
   "name": "python3"
  },
  "language_info": {
   "codemirror_mode": {
    "name": "ipython",
    "version": 3
   },
   "file_extension": ".py",
   "mimetype": "text/x-python",
   "name": "python",
   "nbconvert_exporter": "python",
   "pygments_lexer": "ipython3",
   "version": "3.10.4"
  }
 },
 "nbformat": 4,
 "nbformat_minor": 5
}
