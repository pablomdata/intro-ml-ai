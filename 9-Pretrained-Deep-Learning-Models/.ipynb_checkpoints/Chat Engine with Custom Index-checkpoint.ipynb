{
 "cells": [
  {
   "cell_type": "code",
   "execution_count": 1,
   "id": "b73c0e5c-2c7a-49d8-a4d6-13408c80f28b",
   "metadata": {},
   "outputs": [],
   "source": [
    "import os\n",
    "    \n",
    "# add your openai api key here\n",
    "os.environ['OPENAI_API_KEY'] = 'sk-xx'"
   ]
  },
  {
   "cell_type": "code",
   "execution_count": 2,
   "id": "e87cdb47-f1eb-44fa-a1f7-3d14864723cb",
   "metadata": {},
   "outputs": [
    {
     "name": "stderr",
     "output_type": "stream",
     "text": [
      "C:\\Users\\HP\\AppData\\Local\\Temp\\ipykernel_19148\\1269621106.py:5: DeprecationWarning: Call to deprecated class method from_defaults. (ServiceContext is deprecated, please use `llama_index.settings.Settings` instead.) -- Deprecated since version 0.10.0.\n",
      "  service_context = ServiceContext.from_defaults(llm=OpenAI(model=\"gpt-3.5-turbo-0613\"))\n"
     ]
    }
   ],
   "source": [
    "from llama_index.core import VectorStoreIndex, SimpleDirectoryReader, ServiceContext\n",
    "from llama_index.llms.openai import OpenAI\n",
    "\n",
    "# Necessary to use the latest OpenAI models that support function calling API\n",
    "service_context = ServiceContext.from_defaults(llm=OpenAI(model=\"gpt-3.5-turbo-0613\"))\n",
    "data = SimpleDirectoryReader(input_dir=\"./data/\").load_data()\n",
    "index = VectorStoreIndex.from_documents(data, service_context=service_context)"
   ]
  },
  {
   "cell_type": "code",
   "execution_count": 3,
   "id": "e09cc02c-a67f-4a6e-971b-9795d6a42ebc",
   "metadata": {},
   "outputs": [],
   "source": [
    "chat_engine = index.as_chat_engine(\n",
    "    chat_mode='openai',\n",
    "    verbose=False\n",
    ")"
   ]
  },
  {
   "cell_type": "code",
   "execution_count": 4,
   "id": "873b4bda-4c72-4083-95d2-6b54607bdbc4",
   "metadata": {},
   "outputs": [],
   "source": [
    "chat_engine = index.as_chat_engine(chat_mode=\"openai\", verbose=True)"
   ]
  },
  {
   "cell_type": "code",
   "execution_count": 5,
   "id": "c7ac85d1-4ebc-466a-82ac-9b908285d19a",
   "metadata": {},
   "outputs": [
    {
     "name": "stdout",
     "output_type": "stream",
     "text": [
      "Added user message to memory: Are Russians welcome in Georgia?\n",
      "As an AI language model, I don't have personal opinions. However, I can provide information. \n",
      "\n",
      "The relationship between Russia and Georgia has been complex due to historical and political factors. In general, the Georgian government welcomes tourists from all countries, including Russia. Georgia has a visa-free regime for Russian citizens, allowing them to visit for up to 90 days. Many Russians visit Georgia for tourism, business, or to visit friends and relatives.\n",
      "\n",
      "However, it's important to note that political tensions between the two countries have occasionally affected the relationship between Russian and Georgian citizens. It's always advisable to stay informed about the current political situation and follow any travel advisories or guidelines issued by your government before planning a trip.\n"
     ]
    }
   ],
   "source": [
    "# Default ChatGPT Answer\n",
    "response = chat_engine.chat('Are Russians welcome in Georgia?')\n",
    "print(response)"
   ]
  },
  {
   "cell_type": "code",
   "execution_count": 8,
   "id": "b2a3fe66-2e19-45f2-b7de-6ddab3131cf9",
   "metadata": {},
   "outputs": [
    {
     "name": "stdout",
     "output_type": "stream",
     "text": [
      "Added user message to memory: I am Russian. Can I go to Georgia?\n",
      "=== Calling Function ===\n",
      "Calling function: query_engine_tool with args: {\n",
      "  \"input\": \"Can Russians travel to Georgia?\"\n",
      "}\n",
      "Got output: Russians can travel to Georgia. In mid-May, Russia announced that it would reverse a ban on direct flights to Georgia and remove visa restrictions for Georgians traveling to Russia. However, this decision has caused controversy and strained relations between Georgia and its allies in the West. The US and the EU have warned that allowing Russian airlines to fly to Georgia could expose Georgian companies to sanctions. Despite the criticism, Georgia went ahead with the resumption of travel, citing the economic benefits.\n",
      "========================\n",
      "\n",
      "Yes, Russians can travel to Georgia. In mid-May, Russia announced the lifting of a ban on direct flights to Georgia and the removal of visa restrictions for Georgians traveling to Russia. However, it's important to note that the decision to resume travel has caused controversy and strained relations between Georgia and its allies in the West. The US and the EU have expressed concerns about the potential impact on Georgian companies and have warned of possible sanctions. Despite the criticism, Georgia proceeded with the resumption of travel, citing economic benefits. It's advisable to stay updated on any travel advisories or guidelines issued by your government before planning a trip to Georgia.\n"
     ]
    }
   ],
   "source": [
    "response = chat_engine.chat('I am Russian. Can I go to Georgia?', tool_choice=\"query_engine_tool\")\n",
    "print(response)"
   ]
  },
  {
   "cell_type": "code",
   "execution_count": null,
   "id": "6d410313-ee3c-4fd1-b851-f66aa953259f",
   "metadata": {},
   "outputs": [],
   "source": []
  }
 ],
 "metadata": {
  "kernelspec": {
   "display_name": "Python 3 (ipykernel)",
   "language": "python",
   "name": "python3"
  },
  "language_info": {
   "codemirror_mode": {
    "name": "ipython",
    "version": 3
   },
   "file_extension": ".py",
   "mimetype": "text/x-python",
   "name": "python",
   "nbconvert_exporter": "python",
   "pygments_lexer": "ipython3",
   "version": "3.10.4"
  }
 },
 "nbformat": 4,
 "nbformat_minor": 5
}
