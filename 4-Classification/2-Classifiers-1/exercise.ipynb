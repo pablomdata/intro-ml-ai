{
 "cells": [
  {
   "cell_type": "code",
   "execution_count": 1,
   "id": "175b8a88",
   "metadata": {},
   "outputs": [],
   "source": [
    "import pandas as pd"
   ]
  },
  {
   "cell_type": "code",
   "execution_count": 2,
   "id": "4e665fe1",
   "metadata": {},
   "outputs": [],
   "source": [
    "df = pd.read_csv(\"https://raw.githubusercontent.com/pablomdata/ml-bespoke/main/data/apartments.csv\")"
   ]
  },
  {
   "cell_type": "code",
   "execution_count": 3,
   "id": "7949e8c8",
   "metadata": {},
   "outputs": [
    {
     "data": {
      "text/html": [
       "<div>\n",
       "<style scoped>\n",
       "    .dataframe tbody tr th:only-of-type {\n",
       "        vertical-align: middle;\n",
       "    }\n",
       "\n",
       "    .dataframe tbody tr th {\n",
       "        vertical-align: top;\n",
       "    }\n",
       "\n",
       "    .dataframe thead th {\n",
       "        text-align: right;\n",
       "    }\n",
       "</style>\n",
       "<table border=\"1\" class=\"dataframe\">\n",
       "  <thead>\n",
       "    <tr style=\"text-align: right;\">\n",
       "      <th></th>\n",
       "      <th>m2.price</th>\n",
       "      <th>construction.year</th>\n",
       "      <th>surface</th>\n",
       "      <th>floor</th>\n",
       "      <th>no.rooms</th>\n",
       "      <th>district</th>\n",
       "    </tr>\n",
       "  </thead>\n",
       "  <tbody>\n",
       "    <tr>\n",
       "      <th>0</th>\n",
       "      <td>5897</td>\n",
       "      <td>1953</td>\n",
       "      <td>25</td>\n",
       "      <td>3</td>\n",
       "      <td>1</td>\n",
       "      <td>Srodmiescie</td>\n",
       "    </tr>\n",
       "    <tr>\n",
       "      <th>1</th>\n",
       "      <td>1818</td>\n",
       "      <td>1992</td>\n",
       "      <td>143</td>\n",
       "      <td>9</td>\n",
       "      <td>5</td>\n",
       "      <td>Bielany</td>\n",
       "    </tr>\n",
       "    <tr>\n",
       "      <th>2</th>\n",
       "      <td>3643</td>\n",
       "      <td>1937</td>\n",
       "      <td>56</td>\n",
       "      <td>1</td>\n",
       "      <td>2</td>\n",
       "      <td>Praga</td>\n",
       "    </tr>\n",
       "    <tr>\n",
       "      <th>3</th>\n",
       "      <td>3517</td>\n",
       "      <td>1995</td>\n",
       "      <td>93</td>\n",
       "      <td>7</td>\n",
       "      <td>3</td>\n",
       "      <td>Ochota</td>\n",
       "    </tr>\n",
       "    <tr>\n",
       "      <th>4</th>\n",
       "      <td>3013</td>\n",
       "      <td>1992</td>\n",
       "      <td>144</td>\n",
       "      <td>6</td>\n",
       "      <td>5</td>\n",
       "      <td>Mokotow</td>\n",
       "    </tr>\n",
       "  </tbody>\n",
       "</table>\n",
       "</div>"
      ],
      "text/plain": [
       "   m2.price  construction.year  surface  floor  no.rooms     district\n",
       "0      5897               1953       25      3         1  Srodmiescie\n",
       "1      1818               1992      143      9         5      Bielany\n",
       "2      3643               1937       56      1         2        Praga\n",
       "3      3517               1995       93      7         3       Ochota\n",
       "4      3013               1992      144      6         5      Mokotow"
      ]
     },
     "execution_count": 3,
     "metadata": {},
     "output_type": "execute_result"
    }
   ],
   "source": [
    "df.head()"
   ]
  },
  {
   "cell_type": "markdown",
   "id": "6ddf595b",
   "metadata": {},
   "source": [
    "## Exercise\n",
    "- Create a model that predicts `district` from the other attributes.\n",
    "- Try with: logistic regression, decision trees, k-nearest neighbours and random forest."
   ]
  },
  {
   "cell_type": "code",
   "execution_count": 7,
   "id": "2d9a8881",
   "metadata": {},
   "outputs": [],
   "source": [
    "X = df.loc[:,df.columns[:-1]]\n",
    "y = df.district"
   ]
  },
  {
   "cell_type": "code",
   "execution_count": 11,
   "id": "a204bb0c",
   "metadata": {},
   "outputs": [
    {
     "data": {
      "text/plain": [
       "0.31"
      ]
     },
     "execution_count": 11,
     "metadata": {},
     "output_type": "execute_result"
    }
   ],
   "source": [
    "from sklearn.linear_model import LogisticRegression\n",
    "from sklearn.pipeline import make_pipeline\n",
    "from sklearn.preprocessing import StandardScaler\n",
    "\n",
    "from sklearn.model_selection import train_test_split\n",
    "\n",
    "X_train, X_test, y_train, y_test = train_test_split(X, y, train_size=0.8, random_state=42)\n",
    "\n",
    "pipe = make_pipeline(StandardScaler(), LogisticRegression())\n",
    "\n",
    "pipe.fit(X_train,y_train)\n",
    "pipe.score(X_test,y_test)"
   ]
  },
  {
   "cell_type": "code",
   "execution_count": 13,
   "id": "7043daa1",
   "metadata": {},
   "outputs": [
    {
     "name": "stdout",
     "output_type": "stream",
     "text": [
      "              precision    recall  f1-score   support\n",
      "\n",
      "      Bemowo       0.17      0.41      0.24        17\n",
      "     Bielany       0.00      0.00      0.00        17\n",
      "     Mokotow       0.21      0.24      0.22        21\n",
      "      Ochota       0.27      0.32      0.29        19\n",
      "       Praga       0.00      0.00      0.00        19\n",
      " Srodmiescie       1.00      1.00      1.00        27\n",
      "       Ursus       0.25      0.44      0.32        16\n",
      "     Ursynow       0.33      0.04      0.07        25\n",
      "        Wola       0.18      0.38      0.24        16\n",
      "    Zoliborz       0.18      0.13      0.15        23\n",
      "\n",
      "    accuracy                           0.31       200\n",
      "   macro avg       0.26      0.29      0.25       200\n",
      "weighted avg       0.29      0.31      0.28       200\n",
      "\n"
     ]
    },
    {
     "name": "stderr",
     "output_type": "stream",
     "text": [
      "C:\\Users\\HP\\AppData\\Local\\Programs\\Python\\Python310\\lib\\site-packages\\sklearn\\metrics\\_classification.py:1469: UndefinedMetricWarning: Precision and F-score are ill-defined and being set to 0.0 in labels with no predicted samples. Use `zero_division` parameter to control this behavior.\n",
      "  _warn_prf(average, modifier, msg_start, len(result))\n",
      "C:\\Users\\HP\\AppData\\Local\\Programs\\Python\\Python310\\lib\\site-packages\\sklearn\\metrics\\_classification.py:1469: UndefinedMetricWarning: Precision and F-score are ill-defined and being set to 0.0 in labels with no predicted samples. Use `zero_division` parameter to control this behavior.\n",
      "  _warn_prf(average, modifier, msg_start, len(result))\n",
      "C:\\Users\\HP\\AppData\\Local\\Programs\\Python\\Python310\\lib\\site-packages\\sklearn\\metrics\\_classification.py:1469: UndefinedMetricWarning: Precision and F-score are ill-defined and being set to 0.0 in labels with no predicted samples. Use `zero_division` parameter to control this behavior.\n",
      "  _warn_prf(average, modifier, msg_start, len(result))\n"
     ]
    }
   ],
   "source": [
    "from sklearn.metrics import classification_report\n",
    "\n",
    "y_pred = pipe.predict(X_test)\n",
    "print(classification_report(y_test, y_pred))"
   ]
  },
  {
   "cell_type": "code",
   "execution_count": 14,
   "id": "866579cb",
   "metadata": {},
   "outputs": [
    {
     "name": "stdout",
     "output_type": "stream",
     "text": [
      "RandomForestClassifier(n_estimators=50)\n",
      "0.335\n"
     ]
    }
   ],
   "source": [
    "from sklearn.tree import DecisionTreeClassifier\n",
    "from sklearn.ensemble import RandomForestClassifier\n",
    "\n",
    "clfs = [\n",
    "    DecisionTreeClassifier(max_depth=4),\n",
    "    DecisionTreeClassifier(max_depth=8),\n",
    "    RandomForestClassifier(n_estimators=20),\n",
    "    RandomForestClassifier(n_estimators=50)\n",
    "]\n",
    "\n",
    "best_score = 0\n",
    "best_clf = None\n",
    "score = 0\n",
    "\n",
    "for clf in clfs:\n",
    "    clf.fit(X_train, y_train)\n",
    "    score = clf.score(X_test, y_test)\n",
    "    if score > best_score:\n",
    "        best_score = score\n",
    "        best_clf = clf\n",
    "        \n",
    "print(best_clf)\n",
    "print(best_score)"
   ]
  },
  {
   "cell_type": "code",
   "execution_count": 15,
   "id": "a4f98889",
   "metadata": {},
   "outputs": [
    {
     "name": "stdout",
     "output_type": "stream",
     "text": [
      "RandomForestClassifier(n_estimators=60)\n",
      "0.35\n"
     ]
    }
   ],
   "source": [
    "params = [50, 60, 70, 80]\n",
    "\n",
    "best_score = 0\n",
    "best_clf = None\n",
    "score = 0\n",
    "\n",
    "for param in params:\n",
    "    clf = RandomForestClassifier(n_estimators=param)\n",
    "    clf.fit(X_train, y_train)\n",
    "    score = clf.score(X_test, y_test)\n",
    "    if score > best_score:\n",
    "        best_score = score\n",
    "        best_clf = clf\n",
    "        \n",
    "print(best_clf)\n",
    "print(best_score)"
   ]
  },
  {
   "cell_type": "code",
   "execution_count": 19,
   "id": "d0d3829a",
   "metadata": {},
   "outputs": [
    {
     "data": {
      "text/plain": [
       "array([0.35490146, 0.22528655, 0.22078448, 0.13017099, 0.06885653])"
      ]
     },
     "execution_count": 19,
     "metadata": {},
     "output_type": "execute_result"
    }
   ],
   "source": [
    "best_clf.feature_importances_"
   ]
  },
  {
   "cell_type": "code",
   "execution_count": 17,
   "id": "c319272d",
   "metadata": {},
   "outputs": [
    {
     "data": {
      "text/plain": [
       "array(['m2.price', 'construction.year', 'surface', 'floor', 'no.rooms'],\n",
       "      dtype=object)"
      ]
     },
     "execution_count": 17,
     "metadata": {},
     "output_type": "execute_result"
    }
   ],
   "source": [
    "best_clf.feature_names_in_"
   ]
  },
  {
   "cell_type": "code",
   "execution_count": null,
   "id": "4e1967b2",
   "metadata": {},
   "outputs": [],
   "source": []
  }
 ],
 "metadata": {
  "kernelspec": {
   "display_name": "Python 3 (ipykernel)",
   "language": "python",
   "name": "python3"
  },
  "language_info": {
   "codemirror_mode": {
    "name": "ipython",
    "version": 3
   },
   "file_extension": ".py",
   "mimetype": "text/x-python",
   "name": "python",
   "nbconvert_exporter": "python",
   "pygments_lexer": "ipython3",
   "version": "3.10.4"
  }
 },
 "nbformat": 4,
 "nbformat_minor": 5
}
