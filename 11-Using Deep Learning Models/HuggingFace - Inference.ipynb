{
 "cells": [
  {
   "cell_type": "markdown",
   "id": "ca235e22",
   "metadata": {},
   "source": [
    "# Inference with `pipeline`\n",
    "\n",
    "\n",
    "https://huggingface.co/docs/transformers/pipeline_tutorial"
   ]
  },
  {
   "cell_type": "code",
   "execution_count": 2,
   "id": "b25d5b18",
   "metadata": {},
   "outputs": [],
   "source": [
    "from transformers import pipeline\n",
    "\n",
    "text_class = pipeline(task=\"sentiment-analysis\", model=\"pysentimiento/robertuito-sentiment-analysis\")"
   ]
  },
  {
   "cell_type": "code",
   "execution_count": 3,
   "id": "e5020746",
   "metadata": {},
   "outputs": [
    {
     "data": {
      "text/plain": [
       "[{'label': 'NEG', 'score': 0.9797260165214539}]"
      ]
     },
     "execution_count": 3,
     "metadata": {},
     "output_type": "execute_result"
    }
   ],
   "source": [
    "text_class('Estoy muy triste porque mi perro se murio')"
   ]
  },
  {
   "cell_type": "code",
   "execution_count": null,
   "id": "3e05348c",
   "metadata": {},
   "outputs": [],
   "source": [
    "text_gen = pipeline(task='text-generation', model='openlm-research/open_llama_7b_v2')"
   ]
  },
  {
   "cell_type": "code",
   "execution_count": null,
   "id": "82cdfe1a",
   "metadata": {},
   "outputs": [],
   "source": [
    "text_gen('I would like to visit Bucharest one day, because')"
   ]
  },
  {
   "cell_type": "code",
   "execution_count": null,
   "id": "e5f39674",
   "metadata": {},
   "outputs": [],
   "source": []
  }
 ],
 "metadata": {
  "kernelspec": {
   "display_name": "Python 3 (ipykernel)",
   "language": "python",
   "name": "python3"
  },
  "language_info": {
   "codemirror_mode": {
    "name": "ipython",
    "version": 3
   },
   "file_extension": ".py",
   "mimetype": "text/x-python",
   "name": "python",
   "nbconvert_exporter": "python",
   "pygments_lexer": "ipython3",
   "version": "3.10.12"
  }
 },
 "nbformat": 4,
 "nbformat_minor": 5
}
