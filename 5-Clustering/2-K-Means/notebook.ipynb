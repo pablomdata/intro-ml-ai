{
 "cells": [
  {
   "cell_type": "markdown",
   "metadata": {},
   "source": [
    "# Nigerian Music scraped from Spotify - an analysis"
   ]
  },
  {
   "cell_type": "markdown",
   "metadata": {},
   "source": [
    "Start where we finished in the last lesson, with data imported and filtered."
   ]
  },
  {
   "cell_type": "code",
   "execution_count": 1,
   "metadata": {},
   "outputs": [
    {
     "data": {
      "text/html": [
       "<div>\n",
       "<style scoped>\n",
       "    .dataframe tbody tr th:only-of-type {\n",
       "        vertical-align: middle;\n",
       "    }\n",
       "\n",
       "    .dataframe tbody tr th {\n",
       "        vertical-align: top;\n",
       "    }\n",
       "\n",
       "    .dataframe thead th {\n",
       "        text-align: right;\n",
       "    }\n",
       "</style>\n",
       "<table border=\"1\" class=\"dataframe\">\n",
       "  <thead>\n",
       "    <tr style=\"text-align: right;\">\n",
       "      <th></th>\n",
       "      <th>name</th>\n",
       "      <th>album</th>\n",
       "      <th>artist</th>\n",
       "      <th>artist_top_genre</th>\n",
       "      <th>release_date</th>\n",
       "      <th>length</th>\n",
       "      <th>popularity</th>\n",
       "      <th>danceability</th>\n",
       "      <th>acousticness</th>\n",
       "      <th>energy</th>\n",
       "      <th>instrumentalness</th>\n",
       "      <th>liveness</th>\n",
       "      <th>loudness</th>\n",
       "      <th>speechiness</th>\n",
       "      <th>tempo</th>\n",
       "      <th>time_signature</th>\n",
       "    </tr>\n",
       "  </thead>\n",
       "  <tbody>\n",
       "    <tr>\n",
       "      <th>0</th>\n",
       "      <td>Sparky</td>\n",
       "      <td>Mandy &amp; The Jungle</td>\n",
       "      <td>Cruel Santino</td>\n",
       "      <td>alternative r&amp;b</td>\n",
       "      <td>2019</td>\n",
       "      <td>144000</td>\n",
       "      <td>48</td>\n",
       "      <td>0.666</td>\n",
       "      <td>0.8510</td>\n",
       "      <td>0.420</td>\n",
       "      <td>0.534000</td>\n",
       "      <td>0.1100</td>\n",
       "      <td>-6.699</td>\n",
       "      <td>0.0829</td>\n",
       "      <td>133.015</td>\n",
       "      <td>5</td>\n",
       "    </tr>\n",
       "    <tr>\n",
       "      <th>1</th>\n",
       "      <td>shuga rush</td>\n",
       "      <td>EVERYTHING YOU HEARD IS TRUE</td>\n",
       "      <td>Odunsi (The Engine)</td>\n",
       "      <td>afropop</td>\n",
       "      <td>2020</td>\n",
       "      <td>89488</td>\n",
       "      <td>30</td>\n",
       "      <td>0.710</td>\n",
       "      <td>0.0822</td>\n",
       "      <td>0.683</td>\n",
       "      <td>0.000169</td>\n",
       "      <td>0.1010</td>\n",
       "      <td>-5.640</td>\n",
       "      <td>0.3600</td>\n",
       "      <td>129.993</td>\n",
       "      <td>3</td>\n",
       "    </tr>\n",
       "    <tr>\n",
       "      <th>2</th>\n",
       "      <td>LITT!</td>\n",
       "      <td>LITT!</td>\n",
       "      <td>AYLØ</td>\n",
       "      <td>indie r&amp;b</td>\n",
       "      <td>2018</td>\n",
       "      <td>207758</td>\n",
       "      <td>40</td>\n",
       "      <td>0.836</td>\n",
       "      <td>0.2720</td>\n",
       "      <td>0.564</td>\n",
       "      <td>0.000537</td>\n",
       "      <td>0.1100</td>\n",
       "      <td>-7.127</td>\n",
       "      <td>0.0424</td>\n",
       "      <td>130.005</td>\n",
       "      <td>4</td>\n",
       "    </tr>\n",
       "    <tr>\n",
       "      <th>3</th>\n",
       "      <td>Confident / Feeling Cool</td>\n",
       "      <td>Enjoy Your Life</td>\n",
       "      <td>Lady Donli</td>\n",
       "      <td>nigerian pop</td>\n",
       "      <td>2019</td>\n",
       "      <td>175135</td>\n",
       "      <td>14</td>\n",
       "      <td>0.894</td>\n",
       "      <td>0.7980</td>\n",
       "      <td>0.611</td>\n",
       "      <td>0.000187</td>\n",
       "      <td>0.0964</td>\n",
       "      <td>-4.961</td>\n",
       "      <td>0.1130</td>\n",
       "      <td>111.087</td>\n",
       "      <td>4</td>\n",
       "    </tr>\n",
       "    <tr>\n",
       "      <th>4</th>\n",
       "      <td>wanted you</td>\n",
       "      <td>rare.</td>\n",
       "      <td>Odunsi (The Engine)</td>\n",
       "      <td>afropop</td>\n",
       "      <td>2018</td>\n",
       "      <td>152049</td>\n",
       "      <td>25</td>\n",
       "      <td>0.702</td>\n",
       "      <td>0.1160</td>\n",
       "      <td>0.833</td>\n",
       "      <td>0.910000</td>\n",
       "      <td>0.3480</td>\n",
       "      <td>-6.044</td>\n",
       "      <td>0.0447</td>\n",
       "      <td>105.115</td>\n",
       "      <td>4</td>\n",
       "    </tr>\n",
       "  </tbody>\n",
       "</table>\n",
       "</div>"
      ],
      "text/plain": [
       "                       name                         album  \\\n",
       "0                    Sparky            Mandy & The Jungle   \n",
       "1                shuga rush  EVERYTHING YOU HEARD IS TRUE   \n",
       "2                     LITT!                         LITT!   \n",
       "3  Confident / Feeling Cool               Enjoy Your Life   \n",
       "4                wanted you                         rare.   \n",
       "\n",
       "                artist artist_top_genre  release_date  length  popularity  \\\n",
       "0        Cruel Santino  alternative r&b          2019  144000          48   \n",
       "1  Odunsi (The Engine)          afropop          2020   89488          30   \n",
       "2                 AYLØ        indie r&b          2018  207758          40   \n",
       "3           Lady Donli     nigerian pop          2019  175135          14   \n",
       "4  Odunsi (The Engine)          afropop          2018  152049          25   \n",
       "\n",
       "   danceability  acousticness  energy  instrumentalness  liveness  loudness  \\\n",
       "0         0.666        0.8510   0.420          0.534000    0.1100    -6.699   \n",
       "1         0.710        0.0822   0.683          0.000169    0.1010    -5.640   \n",
       "2         0.836        0.2720   0.564          0.000537    0.1100    -7.127   \n",
       "3         0.894        0.7980   0.611          0.000187    0.0964    -4.961   \n",
       "4         0.702        0.1160   0.833          0.910000    0.3480    -6.044   \n",
       "\n",
       "   speechiness    tempo  time_signature  \n",
       "0       0.0829  133.015               5  \n",
       "1       0.3600  129.993               3  \n",
       "2       0.0424  130.005               4  \n",
       "3       0.1130  111.087               4  \n",
       "4       0.0447  105.115               4  "
      ]
     },
     "execution_count": 1,
     "metadata": {},
     "output_type": "execute_result"
    }
   ],
   "source": [
    "\n",
    "import matplotlib.pyplot as plt\n",
    "import pandas as pd\n",
    "import seaborn as sns\n",
    "\n",
    "\n",
    "df = pd.read_csv(\"../data/nigerian-songs.csv\")\n",
    "df.head()"
   ]
  },
  {
   "cell_type": "markdown",
   "metadata": {},
   "source": [
    "We will focus only on 3 genres. Maybe we can get 3 clusters built!"
   ]
  },
  {
   "cell_type": "code",
   "execution_count": 2,
   "metadata": {},
   "outputs": [
    {
     "data": {
      "text/plain": [
       "Text(0.5, 1.0, 'Top genres')"
      ]
     },
     "execution_count": 2,
     "metadata": {},
     "output_type": "execute_result"
    },
    {
     "data": {
      "image/png": "[encoded data removed]",
      "text/plain": [
       "<Figure size 720x504 with 1 Axes>"
      ]
     },
     "metadata": {
      "needs_background": "light"
     },
     "output_type": "display_data"
    }
   ],
   "source": [
    "df = df[(df['artist_top_genre'] == 'afro dancehall') | (df['artist_top_genre'] == 'afropop') | (df['artist_top_genre'] == 'nigerian pop')]\n",
    "df = df[(df['popularity'] > 0)]\n",
    "top = df['artist_top_genre'].value_counts()\n",
    "plt.figure(figsize=(10,7))\n",
    "sns.barplot(x=top.index,y=top.values)\n",
    "plt.xticks(rotation=45)\n",
    "plt.title('Top genres',color = 'blue')"
   ]
  },
  {
   "cell_type": "code",
   "execution_count": 3,
   "metadata": {},
   "outputs": [
    {
     "data": {
      "text/html": [
       "<div>\n",
       "<style scoped>\n",
       "    .dataframe tbody tr th:only-of-type {\n",
       "        vertical-align: middle;\n",
       "    }\n",
       "\n",
       "    .dataframe tbody tr th {\n",
       "        vertical-align: top;\n",
       "    }\n",
       "\n",
       "    .dataframe thead th {\n",
       "        text-align: right;\n",
       "    }\n",
       "</style>\n",
       "<table border=\"1\" class=\"dataframe\">\n",
       "  <thead>\n",
       "    <tr style=\"text-align: right;\">\n",
       "      <th></th>\n",
       "      <th>name</th>\n",
       "      <th>album</th>\n",
       "      <th>artist</th>\n",
       "      <th>artist_top_genre</th>\n",
       "      <th>release_date</th>\n",
       "      <th>length</th>\n",
       "      <th>popularity</th>\n",
       "      <th>danceability</th>\n",
       "      <th>acousticness</th>\n",
       "      <th>energy</th>\n",
       "      <th>instrumentalness</th>\n",
       "      <th>liveness</th>\n",
       "      <th>loudness</th>\n",
       "      <th>speechiness</th>\n",
       "      <th>tempo</th>\n",
       "      <th>time_signature</th>\n",
       "    </tr>\n",
       "  </thead>\n",
       "  <tbody>\n",
       "    <tr>\n",
       "      <th>1</th>\n",
       "      <td>shuga rush</td>\n",
       "      <td>EVERYTHING YOU HEARD IS TRUE</td>\n",
       "      <td>Odunsi (The Engine)</td>\n",
       "      <td>afropop</td>\n",
       "      <td>2020</td>\n",
       "      <td>89488</td>\n",
       "      <td>30</td>\n",
       "      <td>0.710</td>\n",
       "      <td>0.0822</td>\n",
       "      <td>0.683</td>\n",
       "      <td>0.000169</td>\n",
       "      <td>0.1010</td>\n",
       "      <td>-5.640</td>\n",
       "      <td>0.3600</td>\n",
       "      <td>129.993</td>\n",
       "      <td>3</td>\n",
       "    </tr>\n",
       "    <tr>\n",
       "      <th>3</th>\n",
       "      <td>Confident / Feeling Cool</td>\n",
       "      <td>Enjoy Your Life</td>\n",
       "      <td>Lady Donli</td>\n",
       "      <td>nigerian pop</td>\n",
       "      <td>2019</td>\n",
       "      <td>175135</td>\n",
       "      <td>14</td>\n",
       "      <td>0.894</td>\n",
       "      <td>0.7980</td>\n",
       "      <td>0.611</td>\n",
       "      <td>0.000187</td>\n",
       "      <td>0.0964</td>\n",
       "      <td>-4.961</td>\n",
       "      <td>0.1130</td>\n",
       "      <td>111.087</td>\n",
       "      <td>4</td>\n",
       "    </tr>\n",
       "    <tr>\n",
       "      <th>4</th>\n",
       "      <td>wanted you</td>\n",
       "      <td>rare.</td>\n",
       "      <td>Odunsi (The Engine)</td>\n",
       "      <td>afropop</td>\n",
       "      <td>2018</td>\n",
       "      <td>152049</td>\n",
       "      <td>25</td>\n",
       "      <td>0.702</td>\n",
       "      <td>0.1160</td>\n",
       "      <td>0.833</td>\n",
       "      <td>0.910000</td>\n",
       "      <td>0.3480</td>\n",
       "      <td>-6.044</td>\n",
       "      <td>0.0447</td>\n",
       "      <td>105.115</td>\n",
       "      <td>4</td>\n",
       "    </tr>\n",
       "    <tr>\n",
       "      <th>5</th>\n",
       "      <td>Kasala</td>\n",
       "      <td>Pioneers</td>\n",
       "      <td>DRB Lasgidi</td>\n",
       "      <td>nigerian pop</td>\n",
       "      <td>2020</td>\n",
       "      <td>184800</td>\n",
       "      <td>26</td>\n",
       "      <td>0.803</td>\n",
       "      <td>0.1270</td>\n",
       "      <td>0.525</td>\n",
       "      <td>0.000007</td>\n",
       "      <td>0.1290</td>\n",
       "      <td>-10.034</td>\n",
       "      <td>0.1970</td>\n",
       "      <td>100.103</td>\n",
       "      <td>4</td>\n",
       "    </tr>\n",
       "    <tr>\n",
       "      <th>6</th>\n",
       "      <td>Pull Up</td>\n",
       "      <td>Everything Pretty</td>\n",
       "      <td>prettyboydo</td>\n",
       "      <td>nigerian pop</td>\n",
       "      <td>2018</td>\n",
       "      <td>202648</td>\n",
       "      <td>29</td>\n",
       "      <td>0.818</td>\n",
       "      <td>0.4520</td>\n",
       "      <td>0.587</td>\n",
       "      <td>0.004490</td>\n",
       "      <td>0.5900</td>\n",
       "      <td>-9.840</td>\n",
       "      <td>0.1990</td>\n",
       "      <td>95.842</td>\n",
       "      <td>4</td>\n",
       "    </tr>\n",
       "  </tbody>\n",
       "</table>\n",
       "</div>"
      ],
      "text/plain": [
       "                       name                         album  \\\n",
       "1                shuga rush  EVERYTHING YOU HEARD IS TRUE   \n",
       "3  Confident / Feeling Cool               Enjoy Your Life   \n",
       "4                wanted you                         rare.   \n",
       "5                    Kasala                      Pioneers   \n",
       "6                   Pull Up             Everything Pretty   \n",
       "\n",
       "                artist artist_top_genre  release_date  length  popularity  \\\n",
       "1  Odunsi (The Engine)          afropop          2020   89488          30   \n",
       "3           Lady Donli     nigerian pop          2019  175135          14   \n",
       "4  Odunsi (The Engine)          afropop          2018  152049          25   \n",
       "5          DRB Lasgidi     nigerian pop          2020  184800          26   \n",
       "6          prettyboydo     nigerian pop          2018  202648          29   \n",
       "\n",
       "   danceability  acousticness  energy  instrumentalness  liveness  loudness  \\\n",
       "1         0.710        0.0822   0.683          0.000169    0.1010    -5.640   \n",
       "3         0.894        0.7980   0.611          0.000187    0.0964    -4.961   \n",
       "4         0.702        0.1160   0.833          0.910000    0.3480    -6.044   \n",
       "5         0.803        0.1270   0.525          0.000007    0.1290   -10.034   \n",
       "6         0.818        0.4520   0.587          0.004490    0.5900    -9.840   \n",
       "\n",
       "   speechiness    tempo  time_signature  \n",
       "1       0.3600  129.993               3  \n",
       "3       0.1130  111.087               4  \n",
       "4       0.0447  105.115               4  \n",
       "5       0.1970  100.103               4  \n",
       "6       0.1990   95.842               4  "
      ]
     },
     "execution_count": 3,
     "metadata": {},
     "output_type": "execute_result"
    }
   ],
   "source": [
    "df.head()"
   ]
  },
  {
   "cell_type": "code",
   "execution_count": 4,
   "metadata": {},
   "outputs": [
    {
     "data": {
      "text/plain": [
       "Index(['name', 'album', 'artist', 'artist_top_genre', 'release_date', 'length',\n",
       "       'popularity', 'danceability', 'acousticness', 'energy',\n",
       "       'instrumentalness', 'liveness', 'loudness', 'speechiness', 'tempo',\n",
       "       'time_signature'],\n",
       "      dtype='object')"
      ]
     },
     "execution_count": 4,
     "metadata": {},
     "output_type": "execute_result"
    }
   ],
   "source": [
    "df.columns"
   ]
  },
  {
   "cell_type": "code",
   "execution_count": 5,
   "metadata": {},
   "outputs": [],
   "source": [
    "X = df[['danceability', 'acousticness', 'energy',\n",
    "        'instrumentalness', 'liveness', 'loudness', 'speechiness']]"
   ]
  },
  {
   "cell_type": "code",
   "execution_count": 6,
   "metadata": {},
   "outputs": [],
   "source": [
    "from sklearn.cluster import KMeans"
   ]
  },
  {
   "cell_type": "code",
   "execution_count": 7,
   "metadata": {},
   "outputs": [],
   "source": [
    "km = KMeans(n_clusters=5, n_init='auto', random_state=123)"
   ]
  },
  {
   "cell_type": "code",
   "execution_count": 8,
   "metadata": {},
   "outputs": [
    {
     "data": {
      "text/html": [
       "<style>#sk-container-id-1 {color: black;}#sk-container-id-1 pre{padding: 0;}#sk-container-id-1 div.sk-toggleable {background-color: white;}#sk-container-id-1 label.sk-toggleable__label {cursor: pointer;display: block;width: 100%;margin-bottom: 0;padding: 0.3em;box-sizing: border-box;text-align: center;}#sk-container-id-1 label.sk-toggleable__label-arrow:before {content: \"▸\";float: left;margin-right: 0.25em;color: #696969;}#sk-container-id-1 label.sk-toggleable__label-arrow:hover:before {color: black;}#sk-container-id-1 div.sk-estimator:hover label.sk-toggleable__label-arrow:before {color: black;}#sk-container-id-1 div.sk-toggleable__content {max-height: 0;max-width: 0;overflow: hidden;text-align: left;background-color: #f0f8ff;}#sk-container-id-1 div.sk-toggleable__content pre {margin: 0.2em;color: black;border-radius: 0.25em;background-color: #f0f8ff;}#sk-container-id-1 input.sk-toggleable__control:checked~div.sk-toggleable__content {max-height: 200px;max-width: 100%;overflow: auto;}#sk-container-id-1 input.sk-toggleable__control:checked~label.sk-toggleable__label-arrow:before {content: \"▾\";}#sk-container-id-1 div.sk-estimator input.sk-toggleable__control:checked~label.sk-toggleable__label {background-color: #d4ebff;}#sk-container-id-1 div.sk-label input.sk-toggleable__control:checked~label.sk-toggleable__label {background-color: #d4ebff;}#sk-container-id-1 input.sk-hidden--visually {border: 0;clip: rect(1px 1px 1px 1px);clip: rect(1px, 1px, 1px, 1px);height: 1px;margin: -1px;overflow: hidden;padding: 0;position: absolute;width: 1px;}#sk-container-id-1 div.sk-estimator {font-family: monospace;background-color: #f0f8ff;border: 1px dotted black;border-radius: 0.25em;box-sizing: border-box;margin-bottom: 0.5em;}#sk-container-id-1 div.sk-estimator:hover {background-color: #d4ebff;}#sk-container-id-1 div.sk-parallel-item::after {content: \"\";width: 100%;border-bottom: 1px solid gray;flex-grow: 1;}#sk-container-id-1 div.sk-label:hover label.sk-toggleable__label {background-color: #d4ebff;}#sk-container-id-1 div.sk-serial::before {content: \"\";position: absolute;border-left: 1px solid gray;box-sizing: border-box;top: 0;bottom: 0;left: 50%;z-index: 0;}#sk-container-id-1 div.sk-serial {display: flex;flex-direction: column;align-items: center;background-color: white;padding-right: 0.2em;padding-left: 0.2em;position: relative;}#sk-container-id-1 div.sk-item {position: relative;z-index: 1;}#sk-container-id-1 div.sk-parallel {display: flex;align-items: stretch;justify-content: center;background-color: white;position: relative;}#sk-container-id-1 div.sk-item::before, #sk-container-id-1 div.sk-parallel-item::before {content: \"\";position: absolute;border-left: 1px solid gray;box-sizing: border-box;top: 0;bottom: 0;left: 50%;z-index: -1;}#sk-container-id-1 div.sk-parallel-item {display: flex;flex-direction: column;z-index: 1;position: relative;background-color: white;}#sk-container-id-1 div.sk-parallel-item:first-child::after {align-self: flex-end;width: 50%;}#sk-container-id-1 div.sk-parallel-item:last-child::after {align-self: flex-start;width: 50%;}#sk-container-id-1 div.sk-parallel-item:only-child::after {width: 0;}#sk-container-id-1 div.sk-dashed-wrapped {border: 1px dashed gray;margin: 0 0.4em 0.5em 0.4em;box-sizing: border-box;padding-bottom: 0.4em;background-color: white;}#sk-container-id-1 div.sk-label label {font-family: monospace;font-weight: bold;display: inline-block;line-height: 1.2em;}#sk-container-id-1 div.sk-label-container {text-align: center;}#sk-container-id-1 div.sk-container {/* jupyter's `normalize.less` sets `[hidden] { display: none; }` but bootstrap.min.css set `[hidden] { display: none !important; }` so we also need the `!important` here to be able to override the default hidden behavior on the sphinx rendered scikit-learn.org. See: https://github.com/scikit-learn/scikit-learn/issues/21755 */display: inline-block !important;position: relative;}#sk-container-id-1 div.sk-text-repr-fallback {display: none;}</style><div id=\"sk-container-id-1\" class=\"sk-top-container\"><div class=\"sk-text-repr-fallback\"><pre>KMeans(n_clusters=5, n_init=&#x27;auto&#x27;, random_state=123)</pre><b>In a Jupyter environment, please rerun this cell to show the HTML representation or trust the notebook. <br />On GitHub, the HTML representation is unable to render, please try loading this page with nbviewer.org.</b></div><div class=\"sk-container\" hidden><div class=\"sk-item\"><div class=\"sk-estimator sk-toggleable\"><input class=\"sk-toggleable__control sk-hidden--visually\" id=\"sk-estimator-id-1\" type=\"checkbox\" checked><label for=\"sk-estimator-id-1\" class=\"sk-toggleable__label sk-toggleable__label-arrow\">KMeans</label><div class=\"sk-toggleable__content\"><pre>KMeans(n_clusters=5, n_init=&#x27;auto&#x27;, random_state=123)</pre></div></div></div></div></div>"
      ],
      "text/plain": [
       "KMeans(n_clusters=5, n_init='auto', random_state=123)"
      ]
     },
     "execution_count": 8,
     "metadata": {},
     "output_type": "execute_result"
    }
   ],
   "source": [
    "km.fit(X)"
   ]
  },
  {
   "cell_type": "code",
   "execution_count": 9,
   "metadata": {},
   "outputs": [],
   "source": [
    "clusters = km.predict(X)"
   ]
  },
  {
   "cell_type": "code",
   "execution_count": 10,
   "metadata": {},
   "outputs": [
    {
     "data": {
      "image/png": "[encoded data removed]",
      "text/plain": [
       "<Figure size 432x288 with 1 Axes>"
      ]
     },
     "metadata": {
      "needs_background": "light"
     },
     "output_type": "display_data"
    }
   ],
   "source": [
    "import matplotlib.pyplot as plt\n",
    "plt.scatter(X.loudness, X.energy, c = clusters)\n",
    "plt.xlabel(\"Loudness\")\n",
    "plt.ylabel(\"Energy\")\n",
    "plt.show()"
   ]
  },
  {
   "cell_type": "code",
   "execution_count": 11,
   "metadata": {},
   "outputs": [
    {
     "name": "stderr",
     "output_type": "stream",
     "text": [
      "C:\\Users\\HP\\AppData\\Local\\Temp\\ipykernel_16836\\147519958.py:1: SettingWithCopyWarning: \n",
      "A value is trying to be set on a copy of a slice from a DataFrame.\n",
      "Try using .loc[row_indexer,col_indexer] = value instead\n",
      "\n",
      "See the caveats in the documentation: https://pandas.pydata.org/pandas-docs/stable/user_guide/indexing.html#returning-a-view-versus-a-copy\n",
      "  X['cluster'] = clusters\n"
     ]
    }
   ],
   "source": [
    "X['cluster'] = clusters"
   ]
  },
  {
   "cell_type": "code",
   "execution_count": 12,
   "metadata": {},
   "outputs": [
    {
     "data": {
      "text/html": [
       "<div>\n",
       "<style scoped>\n",
       "    .dataframe tbody tr th:only-of-type {\n",
       "        vertical-align: middle;\n",
       "    }\n",
       "\n",
       "    .dataframe tbody tr th {\n",
       "        vertical-align: top;\n",
       "    }\n",
       "\n",
       "    .dataframe thead th {\n",
       "        text-align: right;\n",
       "    }\n",
       "</style>\n",
       "<table border=\"1\" class=\"dataframe\">\n",
       "  <thead>\n",
       "    <tr style=\"text-align: right;\">\n",
       "      <th></th>\n",
       "      <th>danceability</th>\n",
       "      <th>acousticness</th>\n",
       "      <th>energy</th>\n",
       "      <th>instrumentalness</th>\n",
       "      <th>liveness</th>\n",
       "      <th>loudness</th>\n",
       "      <th>speechiness</th>\n",
       "    </tr>\n",
       "    <tr>\n",
       "      <th>cluster</th>\n",
       "      <th></th>\n",
       "      <th></th>\n",
       "      <th></th>\n",
       "      <th></th>\n",
       "      <th></th>\n",
       "      <th></th>\n",
       "      <th></th>\n",
       "    </tr>\n",
       "  </thead>\n",
       "  <tbody>\n",
       "    <tr>\n",
       "      <th>0</th>\n",
       "      <td>0.752812</td>\n",
       "      <td>0.377437</td>\n",
       "      <td>0.481375</td>\n",
       "      <td>0.002427</td>\n",
       "      <td>0.194594</td>\n",
       "      <td>-11.044313</td>\n",
       "      <td>0.179163</td>\n",
       "    </tr>\n",
       "    <tr>\n",
       "      <th>1</th>\n",
       "      <td>0.757299</td>\n",
       "      <td>0.247007</td>\n",
       "      <td>0.820784</td>\n",
       "      <td>0.011497</td>\n",
       "      <td>0.129914</td>\n",
       "      <td>-3.401155</td>\n",
       "      <td>0.122154</td>\n",
       "    </tr>\n",
       "    <tr>\n",
       "      <th>2</th>\n",
       "      <td>0.755731</td>\n",
       "      <td>0.270775</td>\n",
       "      <td>0.658308</td>\n",
       "      <td>0.016851</td>\n",
       "      <td>0.139106</td>\n",
       "      <td>-7.374404</td>\n",
       "      <td>0.133531</td>\n",
       "    </tr>\n",
       "    <tr>\n",
       "      <th>3</th>\n",
       "      <td>0.700828</td>\n",
       "      <td>0.223292</td>\n",
       "      <td>0.913379</td>\n",
       "      <td>0.000938</td>\n",
       "      <td>0.156352</td>\n",
       "      <td>-1.612966</td>\n",
       "      <td>0.151734</td>\n",
       "    </tr>\n",
       "    <tr>\n",
       "      <th>4</th>\n",
       "      <td>0.740348</td>\n",
       "      <td>0.274102</td>\n",
       "      <td>0.758228</td>\n",
       "      <td>0.017339</td>\n",
       "      <td>0.146040</td>\n",
       "      <td>-5.115522</td>\n",
       "      <td>0.121833</td>\n",
       "    </tr>\n",
       "  </tbody>\n",
       "</table>\n",
       "</div>"
      ],
      "text/plain": [
       "         danceability  acousticness    energy  instrumentalness  liveness  \\\n",
       "cluster                                                                     \n",
       "0            0.752812      0.377437  0.481375          0.002427  0.194594   \n",
       "1            0.757299      0.247007  0.820784          0.011497  0.129914   \n",
       "2            0.755731      0.270775  0.658308          0.016851  0.139106   \n",
       "3            0.700828      0.223292  0.913379          0.000938  0.156352   \n",
       "4            0.740348      0.274102  0.758228          0.017339  0.146040   \n",
       "\n",
       "          loudness  speechiness  \n",
       "cluster                          \n",
       "0       -11.044313     0.179163  \n",
       "1        -3.401155     0.122154  \n",
       "2        -7.374404     0.133531  \n",
       "3        -1.612966     0.151734  \n",
       "4        -5.115522     0.121833  "
      ]
     },
     "execution_count": 12,
     "metadata": {},
     "output_type": "execute_result"
    }
   ],
   "source": [
    "X.groupby('cluster').mean()"
   ]
  },
  {
   "cell_type": "code",
   "execution_count": 13,
   "metadata": {},
   "outputs": [
    {
     "data": {
      "text/html": [
       "<div>\n",
       "<style scoped>\n",
       "    .dataframe tbody tr th:only-of-type {\n",
       "        vertical-align: middle;\n",
       "    }\n",
       "\n",
       "    .dataframe tbody tr th {\n",
       "        vertical-align: top;\n",
       "    }\n",
       "\n",
       "    .dataframe thead th {\n",
       "        text-align: right;\n",
       "    }\n",
       "</style>\n",
       "<table border=\"1\" class=\"dataframe\">\n",
       "  <thead>\n",
       "    <tr style=\"text-align: right;\">\n",
       "      <th></th>\n",
       "      <th>danceability</th>\n",
       "      <th>acousticness</th>\n",
       "      <th>energy</th>\n",
       "      <th>instrumentalness</th>\n",
       "      <th>liveness</th>\n",
       "      <th>loudness</th>\n",
       "      <th>speechiness</th>\n",
       "    </tr>\n",
       "    <tr>\n",
       "      <th>cluster</th>\n",
       "      <th></th>\n",
       "      <th></th>\n",
       "      <th></th>\n",
       "      <th></th>\n",
       "      <th></th>\n",
       "      <th></th>\n",
       "      <th></th>\n",
       "    </tr>\n",
       "  </thead>\n",
       "  <tbody>\n",
       "    <tr>\n",
       "      <th>0</th>\n",
       "      <td>0.115786</td>\n",
       "      <td>0.204783</td>\n",
       "      <td>0.176470</td>\n",
       "      <td>0.006769</td>\n",
       "      <td>0.143508</td>\n",
       "      <td>2.450162</td>\n",
       "      <td>0.131484</td>\n",
       "    </tr>\n",
       "    <tr>\n",
       "      <th>1</th>\n",
       "      <td>0.109136</td>\n",
       "      <td>0.205641</td>\n",
       "      <td>0.097488</td>\n",
       "      <td>0.084728</td>\n",
       "      <td>0.109827</td>\n",
       "      <td>0.503348</td>\n",
       "      <td>0.083300</td>\n",
       "    </tr>\n",
       "    <tr>\n",
       "      <th>2</th>\n",
       "      <td>0.099728</td>\n",
       "      <td>0.218754</td>\n",
       "      <td>0.124781</td>\n",
       "      <td>0.069559</td>\n",
       "      <td>0.102662</td>\n",
       "      <td>0.816452</td>\n",
       "      <td>0.099281</td>\n",
       "    </tr>\n",
       "    <tr>\n",
       "      <th>3</th>\n",
       "      <td>0.107425</td>\n",
       "      <td>0.179404</td>\n",
       "      <td>0.049222</td>\n",
       "      <td>0.003866</td>\n",
       "      <td>0.138638</td>\n",
       "      <td>0.651046</td>\n",
       "      <td>0.089817</td>\n",
       "    </tr>\n",
       "    <tr>\n",
       "      <th>4</th>\n",
       "      <td>0.121110</td>\n",
       "      <td>0.195053</td>\n",
       "      <td>0.094986</td>\n",
       "      <td>0.099730</td>\n",
       "      <td>0.108782</td>\n",
       "      <td>0.548338</td>\n",
       "      <td>0.094143</td>\n",
       "    </tr>\n",
       "  </tbody>\n",
       "</table>\n",
       "</div>"
      ],
      "text/plain": [
       "         danceability  acousticness    energy  instrumentalness  liveness  \\\n",
       "cluster                                                                     \n",
       "0            0.115786      0.204783  0.176470          0.006769  0.143508   \n",
       "1            0.109136      0.205641  0.097488          0.084728  0.109827   \n",
       "2            0.099728      0.218754  0.124781          0.069559  0.102662   \n",
       "3            0.107425      0.179404  0.049222          0.003866  0.138638   \n",
       "4            0.121110      0.195053  0.094986          0.099730  0.108782   \n",
       "\n",
       "         loudness  speechiness  \n",
       "cluster                         \n",
       "0        2.450162     0.131484  \n",
       "1        0.503348     0.083300  \n",
       "2        0.816452     0.099281  \n",
       "3        0.651046     0.089817  \n",
       "4        0.548338     0.094143  "
      ]
     },
     "execution_count": 13,
     "metadata": {},
     "output_type": "execute_result"
    }
   ],
   "source": [
    "X.groupby('cluster').std()"
   ]
  },
  {
   "cell_type": "code",
   "execution_count": 14,
   "metadata": {},
   "outputs": [
    {
     "data": {
      "text/plain": [
       "213.5844744152384"
      ]
     },
     "execution_count": 14,
     "metadata": {},
     "output_type": "execute_result"
    }
   ],
   "source": [
    "km.inertia_"
   ]
  },
  {
   "cell_type": "code",
   "execution_count": 15,
   "metadata": {},
   "outputs": [],
   "source": [
    "ks = [2,3,4,5,6,7,8]\n",
    "inertias = []\n",
    "\n",
    "for k in ks:\n",
    "    km = KMeans(n_clusters=k, n_init='auto', random_state=123)\n",
    "    km.fit(X)\n",
    "    inertia = km.inertia_\n",
    "    inertias.append(inertia)"
   ]
  },
  {
   "cell_type": "code",
   "execution_count": 16,
   "metadata": {},
   "outputs": [
    {
     "data": {
      "text/plain": [
       "[<matplotlib.lines.Line2D at 0x1a2b4c902b0>]"
      ]
     },
     "execution_count": 16,
     "metadata": {},
     "output_type": "execute_result"
    },
    {
     "data": {
      "image/png": "[encoded data removed]",
      "text/plain": [
       "<Figure size 432x288 with 1 Axes>"
      ]
     },
     "metadata": {
      "needs_background": "light"
     },
     "output_type": "display_data"
    }
   ],
   "source": [
    "plt.plot(ks, inertias)"
   ]
  },
  {
   "cell_type": "code",
   "execution_count": 17,
   "metadata": {},
   "outputs": [
    {
     "data": {
      "text/html": [
       "<div>\n",
       "<style scoped>\n",
       "    .dataframe tbody tr th:only-of-type {\n",
       "        vertical-align: middle;\n",
       "    }\n",
       "\n",
       "    .dataframe tbody tr th {\n",
       "        vertical-align: top;\n",
       "    }\n",
       "\n",
       "    .dataframe thead th {\n",
       "        text-align: right;\n",
       "    }\n",
       "</style>\n",
       "<table border=\"1\" class=\"dataframe\">\n",
       "  <thead>\n",
       "    <tr style=\"text-align: right;\">\n",
       "      <th></th>\n",
       "      <th>danceability</th>\n",
       "      <th>acousticness</th>\n",
       "      <th>energy</th>\n",
       "      <th>instrumentalness</th>\n",
       "      <th>liveness</th>\n",
       "      <th>loudness</th>\n",
       "      <th>speechiness</th>\n",
       "      <th>cluster</th>\n",
       "    </tr>\n",
       "  </thead>\n",
       "  <tbody>\n",
       "    <tr>\n",
       "      <th>26</th>\n",
       "      <td>0.76</td>\n",
       "      <td>0.229</td>\n",
       "      <td>0.111</td>\n",
       "      <td>0.00119</td>\n",
       "      <td>0.129</td>\n",
       "      <td>-19.362</td>\n",
       "      <td>0.044</td>\n",
       "      <td>0</td>\n",
       "    </tr>\n",
       "  </tbody>\n",
       "</table>\n",
       "</div>"
      ],
      "text/plain": [
       "    danceability  acousticness  energy  instrumentalness  liveness  loudness  \\\n",
       "26          0.76         0.229   0.111           0.00119     0.129   -19.362   \n",
       "\n",
       "    speechiness  cluster  \n",
       "26        0.044        0  "
      ]
     },
     "execution_count": 17,
     "metadata": {},
     "output_type": "execute_result"
    }
   ],
   "source": [
    "X[X['loudness']<-18]"
   ]
  },
  {
   "cell_type": "code",
   "execution_count": 18,
   "metadata": {},
   "outputs": [
    {
     "data": {
      "text/plain": [
       "name                  Duduke\n",
       "album                 Duduke\n",
       "artist                  Simi\n",
       "artist_top_genre     afropop\n",
       "release_date            2020\n",
       "length                172000\n",
       "popularity                60\n",
       "danceability           0.781\n",
       "acousticness           0.552\n",
       "energy                 0.656\n",
       "instrumentalness    0.000052\n",
       "liveness               0.131\n",
       "loudness              -4.105\n",
       "speechiness            0.106\n",
       "tempo                 96.083\n",
       "time_signature             4\n",
       "Name: 40, dtype: object"
      ]
     },
     "execution_count": 18,
     "metadata": {},
     "output_type": "execute_result"
    }
   ],
   "source": [
    "df.iloc[26]"
   ]
  },
  {
   "cell_type": "code",
   "execution_count": null,
   "metadata": {},
   "outputs": [],
   "source": []
  }
 ],
 "metadata": {
  "kernelspec": {
   "display_name": "Python 3 (ipykernel)",
   "language": "python",
   "name": "python3"
  },
  "language_info": {
   "codemirror_mode": {
    "name": "ipython",
    "version": 3
   },
   "file_extension": ".py",
   "mimetype": "text/x-python",
   "name": "python",
   "nbconvert_exporter": "python",
   "pygments_lexer": "ipython3",
   "version": "3.10.4"
  },
  "metadata": {
   "interpreter": {
    "hash": "70b38d7a306a849643e446cd70466270a13445e5987dfa1344ef2b127438fa4d"
   }
  }
 },
 "nbformat": 4,
 "nbformat_minor": 2
}
